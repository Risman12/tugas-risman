{
  "nbformat": 4,
  "nbformat_minor": 0,
  "metadata": {
    "colab": {
      "provenance": []
    },
    "kernelspec": {
      "name": "python3",
      "display_name": "Python 3"
    },
    "language_info": {
      "name": "python"
    }
  },
  "cells": [
    {
      "cell_type": "code",
      "execution_count": 2,
      "metadata": {
        "colab": {
          "base_uri": "https://localhost:8080/"
        },
        "id": "pAI9j-3dmsaR",
        "outputId": "33ccce4e-84d6-4d2c-de4d-673f80355d1f"
      },
      "outputs": [
        {
          "output_type": "stream",
          "name": "stdout",
          "text": [
            "Mounted at /content/drive\n"
          ]
        }
      ],
      "source": [
        "import pandas as pd\n",
        "from google.colab import drive\n",
        "drive.mount('/content/drive')"
      ]
    },
    {
      "cell_type": "code",
      "source": [
        "from google.colab import drive\n",
        "drive.mount('/content/drive')"
      ],
      "metadata": {
        "colab": {
          "base_uri": "https://localhost:8080/"
        },
        "id": "BbjYM6RcplM_",
        "outputId": "a3d230a6-67f5-4e56-f325-fe14731156b5"
      },
      "execution_count": 3,
      "outputs": [
        {
          "output_type": "stream",
          "name": "stdout",
          "text": [
            "Drive already mounted at /content/drive; to attempt to forcibly remount, call drive.mount(\"/content/drive\", force_remount=True).\n"
          ]
        }
      ]
    },
    {
      "cell_type": "code",
      "source": [
        "path ='/content/drive/MyDrive/CSV/data7.csv'\n",
        "df =pd.read_csv(path)\n",
        "\n",
        "df.describe()"
      ],
      "metadata": {
        "colab": {
          "base_uri": "https://localhost:8080/",
          "height": 300
        },
        "id": "RW9cTrIKpqeV",
        "outputId": "825fdc20-44ab-4da3-bae3-35908918a3a9"
      },
      "execution_count": 4,
      "outputs": [
        {
          "output_type": "execute_result",
          "data": {
            "text/plain": [
              "       Jumlah Balita Terdaftar  Jumlah Balita Aktif\n",
              "count                75.000000            75.000000\n",
              "mean                 65.053333            65.053333\n",
              "std                  31.207195            31.207195\n",
              "min                  14.000000            14.000000\n",
              "25%                  45.000000            45.000000\n",
              "50%                  58.000000            58.000000\n",
              "75%                  76.500000            76.500000\n",
              "max                 160.000000           160.000000"
            ],
            "text/html": [
              "\n",
              "  <div id=\"df-b8f0f846-a2bd-4f5f-9bbf-08b1ed5a133f\">\n",
              "    <div class=\"colab-df-container\">\n",
              "      <div>\n",
              "<style scoped>\n",
              "    .dataframe tbody tr th:only-of-type {\n",
              "        vertical-align: middle;\n",
              "    }\n",
              "\n",
              "    .dataframe tbody tr th {\n",
              "        vertical-align: top;\n",
              "    }\n",
              "\n",
              "    .dataframe thead th {\n",
              "        text-align: right;\n",
              "    }\n",
              "</style>\n",
              "<table border=\"1\" class=\"dataframe\">\n",
              "  <thead>\n",
              "    <tr style=\"text-align: right;\">\n",
              "      <th></th>\n",
              "      <th>Jumlah Balita Terdaftar</th>\n",
              "      <th>Jumlah Balita Aktif</th>\n",
              "    </tr>\n",
              "  </thead>\n",
              "  <tbody>\n",
              "    <tr>\n",
              "      <th>count</th>\n",
              "      <td>75.000000</td>\n",
              "      <td>75.000000</td>\n",
              "    </tr>\n",
              "    <tr>\n",
              "      <th>mean</th>\n",
              "      <td>65.053333</td>\n",
              "      <td>65.053333</td>\n",
              "    </tr>\n",
              "    <tr>\n",
              "      <th>std</th>\n",
              "      <td>31.207195</td>\n",
              "      <td>31.207195</td>\n",
              "    </tr>\n",
              "    <tr>\n",
              "      <th>min</th>\n",
              "      <td>14.000000</td>\n",
              "      <td>14.000000</td>\n",
              "    </tr>\n",
              "    <tr>\n",
              "      <th>25%</th>\n",
              "      <td>45.000000</td>\n",
              "      <td>45.000000</td>\n",
              "    </tr>\n",
              "    <tr>\n",
              "      <th>50%</th>\n",
              "      <td>58.000000</td>\n",
              "      <td>58.000000</td>\n",
              "    </tr>\n",
              "    <tr>\n",
              "      <th>75%</th>\n",
              "      <td>76.500000</td>\n",
              "      <td>76.500000</td>\n",
              "    </tr>\n",
              "    <tr>\n",
              "      <th>max</th>\n",
              "      <td>160.000000</td>\n",
              "      <td>160.000000</td>\n",
              "    </tr>\n",
              "  </tbody>\n",
              "</table>\n",
              "</div>\n",
              "      <button class=\"colab-df-convert\" onclick=\"convertToInteractive('df-b8f0f846-a2bd-4f5f-9bbf-08b1ed5a133f')\"\n",
              "              title=\"Convert this dataframe to an interactive table.\"\n",
              "              style=\"display:none;\">\n",
              "        \n",
              "  <svg xmlns=\"http://www.w3.org/2000/svg\" height=\"24px\"viewBox=\"0 0 24 24\"\n",
              "       width=\"24px\">\n",
              "    <path d=\"M0 0h24v24H0V0z\" fill=\"none\"/>\n",
              "    <path d=\"M18.56 5.44l.94 2.06.94-2.06 2.06-.94-2.06-.94-.94-2.06-.94 2.06-2.06.94zm-11 1L8.5 8.5l.94-2.06 2.06-.94-2.06-.94L8.5 2.5l-.94 2.06-2.06.94zm10 10l.94 2.06.94-2.06 2.06-.94-2.06-.94-.94-2.06-.94 2.06-2.06.94z\"/><path d=\"M17.41 7.96l-1.37-1.37c-.4-.4-.92-.59-1.43-.59-.52 0-1.04.2-1.43.59L10.3 9.45l-7.72 7.72c-.78.78-.78 2.05 0 2.83L4 21.41c.39.39.9.59 1.41.59.51 0 1.02-.2 1.41-.59l7.78-7.78 2.81-2.81c.8-.78.8-2.07 0-2.86zM5.41 20L4 18.59l7.72-7.72 1.47 1.35L5.41 20z\"/>\n",
              "  </svg>\n",
              "      </button>\n",
              "      \n",
              "  <style>\n",
              "    .colab-df-container {\n",
              "      display:flex;\n",
              "      flex-wrap:wrap;\n",
              "      gap: 12px;\n",
              "    }\n",
              "\n",
              "    .colab-df-convert {\n",
              "      background-color: #E8F0FE;\n",
              "      border: none;\n",
              "      border-radius: 50%;\n",
              "      cursor: pointer;\n",
              "      display: none;\n",
              "      fill: #1967D2;\n",
              "      height: 32px;\n",
              "      padding: 0 0 0 0;\n",
              "      width: 32px;\n",
              "    }\n",
              "\n",
              "    .colab-df-convert:hover {\n",
              "      background-color: #E2EBFA;\n",
              "      box-shadow: 0px 1px 2px rgba(60, 64, 67, 0.3), 0px 1px 3px 1px rgba(60, 64, 67, 0.15);\n",
              "      fill: #174EA6;\n",
              "    }\n",
              "\n",
              "    [theme=dark] .colab-df-convert {\n",
              "      background-color: #3B4455;\n",
              "      fill: #D2E3FC;\n",
              "    }\n",
              "\n",
              "    [theme=dark] .colab-df-convert:hover {\n",
              "      background-color: #434B5C;\n",
              "      box-shadow: 0px 1px 3px 1px rgba(0, 0, 0, 0.15);\n",
              "      filter: drop-shadow(0px 1px 2px rgba(0, 0, 0, 0.3));\n",
              "      fill: #FFFFFF;\n",
              "    }\n",
              "  </style>\n",
              "\n",
              "      <script>\n",
              "        const buttonEl =\n",
              "          document.querySelector('#df-b8f0f846-a2bd-4f5f-9bbf-08b1ed5a133f button.colab-df-convert');\n",
              "        buttonEl.style.display =\n",
              "          google.colab.kernel.accessAllowed ? 'block' : 'none';\n",
              "\n",
              "        async function convertToInteractive(key) {\n",
              "          const element = document.querySelector('#df-b8f0f846-a2bd-4f5f-9bbf-08b1ed5a133f');\n",
              "          const dataTable =\n",
              "            await google.colab.kernel.invokeFunction('convertToInteractive',\n",
              "                                                     [key], {});\n",
              "          if (!dataTable) return;\n",
              "\n",
              "          const docLinkHtml = 'Like what you see? Visit the ' +\n",
              "            '<a target=\"_blank\" href=https://colab.research.google.com/notebooks/data_table.ipynb>data table notebook</a>'\n",
              "            + ' to learn more about interactive tables.';\n",
              "          element.innerHTML = '';\n",
              "          dataTable['output_type'] = 'display_data';\n",
              "          await google.colab.output.renderOutput(dataTable, element);\n",
              "          const docLink = document.createElement('div');\n",
              "          docLink.innerHTML = docLinkHtml;\n",
              "          element.appendChild(docLink);\n",
              "        }\n",
              "      </script>\n",
              "    </div>\n",
              "  </div>\n",
              "  "
            ]
          },
          "metadata": {},
          "execution_count": 4
        }
      ]
    },
    {
      "cell_type": "code",
      "source": [
        "df"
      ],
      "metadata": {
        "colab": {
          "base_uri": "https://localhost:8080/",
          "height": 624
        },
        "id": "vCsweknsp1I_",
        "outputId": "8abe8d05-6ec2-4804-d946-941b7a66ff73"
      },
      "execution_count": 5,
      "outputs": [
        {
          "output_type": "execute_result",
          "data": {
            "text/plain": [
              "   Kode Kecamatan Kecamatan Kode Kelurahan    Kelurahan  \\\n",
              "0        32.73.06   Cicendo  32.73.06.1004  Pasirkaliki   \n",
              "1        32.73.06   Cicendo  32.73.06.1004  Pasirkaliki   \n",
              "2        32.73.06   Cicendo  32.73.06.1004  Pasirkaliki   \n",
              "3        32.73.06   Cicendo  32.73.06.1004  Pasirkaliki   \n",
              "4        32.73.06   Cicendo  32.73.06.1004  Pasirkaliki   \n",
              "..            ...       ...            ...          ...   \n",
              "70       32.73.06   Cicendo  32.73.06.1006     Sukaraja   \n",
              "71       32.73.06   Cicendo  32.73.06.1006     Sukaraja   \n",
              "72       32.73.06   Cicendo  32.73.06.1006     Sukaraja   \n",
              "73       32.73.06   Cicendo  32.73.06.1006     Sukaraja   \n",
              "74       32.73.06   Cicendo  32.73.06.1006     Sukaraja   \n",
              "\n",
              "                   NamaPosyandu Strata Posyandu  \\\n",
              "0          Posyandu Tulip RW 03         Purnama   \n",
              "1   Posyandu Mawar Jingga RW 04         Mandiri   \n",
              "2        Posyandu Teratai RW 05         Mandiri   \n",
              "3         Posyandu Kenari RW 06         Purnama   \n",
              "4         Posyandu Melati RW 07         Mandiri   \n",
              "..                          ...             ...   \n",
              "70      Posyandu Mawar II RW 07         Mandiri   \n",
              "71      Posyandu Perkutut RW 08         Purnama   \n",
              "72   Posyandu Budi Asih I RW 09         Mandiri   \n",
              "73  Posyandu Budi Asih II RW 09         Mandiri   \n",
              "74   Posyandu Ganda Mekar RW 10         Purnama   \n",
              "\n",
              "                       Alamat Posyandu  Jumlah Balita Terdaftar  \\\n",
              "0         Gg. Terasana No 122 RT 02/03                       40   \n",
              "1    Jl. Pajajaran Gg. Kina No. 29/5 A                       63   \n",
              "2                 Gg. Polisi No. 27/5A                       41   \n",
              "3          Jl. Moh Mesri Samping No. 5                       14   \n",
              "4                Jl. Moh Aleh RT 02/07                       39   \n",
              "..                                 ...                      ...   \n",
              "70   Jl. Babakan Radio No. 48 RT 03/07                       41   \n",
              "71          Jl. Dakota No. 40 RT 03/08                       37   \n",
              "72  Jl. Gn.Batu Gg. Suka Asih RT 02/08                       85   \n",
              "73  Jl. Gn.Batu Gg. Suka Asih RT 02/09                       75   \n",
              "74            Jl. Raden Ganda RT 06/10                       96   \n",
              "\n",
              "    Jumlah Balita Aktif Jumlah Kader Aktif  \n",
              "0                    40                  7  \n",
              "1                    63                  9  \n",
              "2                    41                  8  \n",
              "3                    14                  7  \n",
              "4                    39                  7  \n",
              "..                  ...                ...  \n",
              "70                   41                  -  \n",
              "71                   37                  7  \n",
              "72                   85                  -  \n",
              "73                   75                 15  \n",
              "74                   96                  9  \n",
              "\n",
              "[75 rows x 10 columns]"
            ],
            "text/html": [
              "\n",
              "  <div id=\"df-5e79a936-9c5d-4c3b-a2fe-4ff49db1fa2a\">\n",
              "    <div class=\"colab-df-container\">\n",
              "      <div>\n",
              "<style scoped>\n",
              "    .dataframe tbody tr th:only-of-type {\n",
              "        vertical-align: middle;\n",
              "    }\n",
              "\n",
              "    .dataframe tbody tr th {\n",
              "        vertical-align: top;\n",
              "    }\n",
              "\n",
              "    .dataframe thead th {\n",
              "        text-align: right;\n",
              "    }\n",
              "</style>\n",
              "<table border=\"1\" class=\"dataframe\">\n",
              "  <thead>\n",
              "    <tr style=\"text-align: right;\">\n",
              "      <th></th>\n",
              "      <th>Kode Kecamatan</th>\n",
              "      <th>Kecamatan</th>\n",
              "      <th>Kode Kelurahan</th>\n",
              "      <th>Kelurahan</th>\n",
              "      <th>NamaPosyandu</th>\n",
              "      <th>Strata Posyandu</th>\n",
              "      <th>Alamat Posyandu</th>\n",
              "      <th>Jumlah Balita Terdaftar</th>\n",
              "      <th>Jumlah Balita Aktif</th>\n",
              "      <th>Jumlah Kader Aktif</th>\n",
              "    </tr>\n",
              "  </thead>\n",
              "  <tbody>\n",
              "    <tr>\n",
              "      <th>0</th>\n",
              "      <td>32.73.06</td>\n",
              "      <td>Cicendo</td>\n",
              "      <td>32.73.06.1004</td>\n",
              "      <td>Pasirkaliki</td>\n",
              "      <td>Posyandu Tulip RW 03</td>\n",
              "      <td>Purnama</td>\n",
              "      <td>Gg. Terasana No 122 RT 02/03</td>\n",
              "      <td>40</td>\n",
              "      <td>40</td>\n",
              "      <td>7</td>\n",
              "    </tr>\n",
              "    <tr>\n",
              "      <th>1</th>\n",
              "      <td>32.73.06</td>\n",
              "      <td>Cicendo</td>\n",
              "      <td>32.73.06.1004</td>\n",
              "      <td>Pasirkaliki</td>\n",
              "      <td>Posyandu Mawar Jingga RW 04</td>\n",
              "      <td>Mandiri</td>\n",
              "      <td>Jl. Pajajaran Gg. Kina No. 29/5 A</td>\n",
              "      <td>63</td>\n",
              "      <td>63</td>\n",
              "      <td>9</td>\n",
              "    </tr>\n",
              "    <tr>\n",
              "      <th>2</th>\n",
              "      <td>32.73.06</td>\n",
              "      <td>Cicendo</td>\n",
              "      <td>32.73.06.1004</td>\n",
              "      <td>Pasirkaliki</td>\n",
              "      <td>Posyandu Teratai RW 05</td>\n",
              "      <td>Mandiri</td>\n",
              "      <td>Gg. Polisi No. 27/5A</td>\n",
              "      <td>41</td>\n",
              "      <td>41</td>\n",
              "      <td>8</td>\n",
              "    </tr>\n",
              "    <tr>\n",
              "      <th>3</th>\n",
              "      <td>32.73.06</td>\n",
              "      <td>Cicendo</td>\n",
              "      <td>32.73.06.1004</td>\n",
              "      <td>Pasirkaliki</td>\n",
              "      <td>Posyandu Kenari RW 06</td>\n",
              "      <td>Purnama</td>\n",
              "      <td>Jl. Moh Mesri Samping No. 5</td>\n",
              "      <td>14</td>\n",
              "      <td>14</td>\n",
              "      <td>7</td>\n",
              "    </tr>\n",
              "    <tr>\n",
              "      <th>4</th>\n",
              "      <td>32.73.06</td>\n",
              "      <td>Cicendo</td>\n",
              "      <td>32.73.06.1004</td>\n",
              "      <td>Pasirkaliki</td>\n",
              "      <td>Posyandu Melati RW 07</td>\n",
              "      <td>Mandiri</td>\n",
              "      <td>Jl. Moh Aleh RT 02/07</td>\n",
              "      <td>39</td>\n",
              "      <td>39</td>\n",
              "      <td>7</td>\n",
              "    </tr>\n",
              "    <tr>\n",
              "      <th>...</th>\n",
              "      <td>...</td>\n",
              "      <td>...</td>\n",
              "      <td>...</td>\n",
              "      <td>...</td>\n",
              "      <td>...</td>\n",
              "      <td>...</td>\n",
              "      <td>...</td>\n",
              "      <td>...</td>\n",
              "      <td>...</td>\n",
              "      <td>...</td>\n",
              "    </tr>\n",
              "    <tr>\n",
              "      <th>70</th>\n",
              "      <td>32.73.06</td>\n",
              "      <td>Cicendo</td>\n",
              "      <td>32.73.06.1006</td>\n",
              "      <td>Sukaraja</td>\n",
              "      <td>Posyandu Mawar II RW 07</td>\n",
              "      <td>Mandiri</td>\n",
              "      <td>Jl. Babakan Radio No. 48 RT 03/07</td>\n",
              "      <td>41</td>\n",
              "      <td>41</td>\n",
              "      <td>-</td>\n",
              "    </tr>\n",
              "    <tr>\n",
              "      <th>71</th>\n",
              "      <td>32.73.06</td>\n",
              "      <td>Cicendo</td>\n",
              "      <td>32.73.06.1006</td>\n",
              "      <td>Sukaraja</td>\n",
              "      <td>Posyandu Perkutut RW 08</td>\n",
              "      <td>Purnama</td>\n",
              "      <td>Jl. Dakota No. 40 RT 03/08</td>\n",
              "      <td>37</td>\n",
              "      <td>37</td>\n",
              "      <td>7</td>\n",
              "    </tr>\n",
              "    <tr>\n",
              "      <th>72</th>\n",
              "      <td>32.73.06</td>\n",
              "      <td>Cicendo</td>\n",
              "      <td>32.73.06.1006</td>\n",
              "      <td>Sukaraja</td>\n",
              "      <td>Posyandu Budi Asih I RW 09</td>\n",
              "      <td>Mandiri</td>\n",
              "      <td>Jl. Gn.Batu Gg. Suka Asih RT 02/08</td>\n",
              "      <td>85</td>\n",
              "      <td>85</td>\n",
              "      <td>-</td>\n",
              "    </tr>\n",
              "    <tr>\n",
              "      <th>73</th>\n",
              "      <td>32.73.06</td>\n",
              "      <td>Cicendo</td>\n",
              "      <td>32.73.06.1006</td>\n",
              "      <td>Sukaraja</td>\n",
              "      <td>Posyandu Budi Asih II RW 09</td>\n",
              "      <td>Mandiri</td>\n",
              "      <td>Jl. Gn.Batu Gg. Suka Asih RT 02/09</td>\n",
              "      <td>75</td>\n",
              "      <td>75</td>\n",
              "      <td>15</td>\n",
              "    </tr>\n",
              "    <tr>\n",
              "      <th>74</th>\n",
              "      <td>32.73.06</td>\n",
              "      <td>Cicendo</td>\n",
              "      <td>32.73.06.1006</td>\n",
              "      <td>Sukaraja</td>\n",
              "      <td>Posyandu Ganda Mekar RW 10</td>\n",
              "      <td>Purnama</td>\n",
              "      <td>Jl. Raden Ganda RT 06/10</td>\n",
              "      <td>96</td>\n",
              "      <td>96</td>\n",
              "      <td>9</td>\n",
              "    </tr>\n",
              "  </tbody>\n",
              "</table>\n",
              "<p>75 rows × 10 columns</p>\n",
              "</div>\n",
              "      <button class=\"colab-df-convert\" onclick=\"convertToInteractive('df-5e79a936-9c5d-4c3b-a2fe-4ff49db1fa2a')\"\n",
              "              title=\"Convert this dataframe to an interactive table.\"\n",
              "              style=\"display:none;\">\n",
              "        \n",
              "  <svg xmlns=\"http://www.w3.org/2000/svg\" height=\"24px\"viewBox=\"0 0 24 24\"\n",
              "       width=\"24px\">\n",
              "    <path d=\"M0 0h24v24H0V0z\" fill=\"none\"/>\n",
              "    <path d=\"M18.56 5.44l.94 2.06.94-2.06 2.06-.94-2.06-.94-.94-2.06-.94 2.06-2.06.94zm-11 1L8.5 8.5l.94-2.06 2.06-.94-2.06-.94L8.5 2.5l-.94 2.06-2.06.94zm10 10l.94 2.06.94-2.06 2.06-.94-2.06-.94-.94-2.06-.94 2.06-2.06.94z\"/><path d=\"M17.41 7.96l-1.37-1.37c-.4-.4-.92-.59-1.43-.59-.52 0-1.04.2-1.43.59L10.3 9.45l-7.72 7.72c-.78.78-.78 2.05 0 2.83L4 21.41c.39.39.9.59 1.41.59.51 0 1.02-.2 1.41-.59l7.78-7.78 2.81-2.81c.8-.78.8-2.07 0-2.86zM5.41 20L4 18.59l7.72-7.72 1.47 1.35L5.41 20z\"/>\n",
              "  </svg>\n",
              "      </button>\n",
              "      \n",
              "  <style>\n",
              "    .colab-df-container {\n",
              "      display:flex;\n",
              "      flex-wrap:wrap;\n",
              "      gap: 12px;\n",
              "    }\n",
              "\n",
              "    .colab-df-convert {\n",
              "      background-color: #E8F0FE;\n",
              "      border: none;\n",
              "      border-radius: 50%;\n",
              "      cursor: pointer;\n",
              "      display: none;\n",
              "      fill: #1967D2;\n",
              "      height: 32px;\n",
              "      padding: 0 0 0 0;\n",
              "      width: 32px;\n",
              "    }\n",
              "\n",
              "    .colab-df-convert:hover {\n",
              "      background-color: #E2EBFA;\n",
              "      box-shadow: 0px 1px 2px rgba(60, 64, 67, 0.3), 0px 1px 3px 1px rgba(60, 64, 67, 0.15);\n",
              "      fill: #174EA6;\n",
              "    }\n",
              "\n",
              "    [theme=dark] .colab-df-convert {\n",
              "      background-color: #3B4455;\n",
              "      fill: #D2E3FC;\n",
              "    }\n",
              "\n",
              "    [theme=dark] .colab-df-convert:hover {\n",
              "      background-color: #434B5C;\n",
              "      box-shadow: 0px 1px 3px 1px rgba(0, 0, 0, 0.15);\n",
              "      filter: drop-shadow(0px 1px 2px rgba(0, 0, 0, 0.3));\n",
              "      fill: #FFFFFF;\n",
              "    }\n",
              "  </style>\n",
              "\n",
              "      <script>\n",
              "        const buttonEl =\n",
              "          document.querySelector('#df-5e79a936-9c5d-4c3b-a2fe-4ff49db1fa2a button.colab-df-convert');\n",
              "        buttonEl.style.display =\n",
              "          google.colab.kernel.accessAllowed ? 'block' : 'none';\n",
              "\n",
              "        async function convertToInteractive(key) {\n",
              "          const element = document.querySelector('#df-5e79a936-9c5d-4c3b-a2fe-4ff49db1fa2a');\n",
              "          const dataTable =\n",
              "            await google.colab.kernel.invokeFunction('convertToInteractive',\n",
              "                                                     [key], {});\n",
              "          if (!dataTable) return;\n",
              "\n",
              "          const docLinkHtml = 'Like what you see? Visit the ' +\n",
              "            '<a target=\"_blank\" href=https://colab.research.google.com/notebooks/data_table.ipynb>data table notebook</a>'\n",
              "            + ' to learn more about interactive tables.';\n",
              "          element.innerHTML = '';\n",
              "          dataTable['output_type'] = 'display_data';\n",
              "          await google.colab.output.renderOutput(dataTable, element);\n",
              "          const docLink = document.createElement('div');\n",
              "          docLink.innerHTML = docLinkHtml;\n",
              "          element.appendChild(docLink);\n",
              "        }\n",
              "      </script>\n",
              "    </div>\n",
              "  </div>\n",
              "  "
            ]
          },
          "metadata": {},
          "execution_count": 5
        }
      ]
    },
    {
      "cell_type": "code",
      "source": [
        "import matplotlib.pyplot as plt\n",
        "df.plot(kind = 'scatter', x='Jumlah Balita Terdaftar', y='Jumlah Balita Aktif')\n",
        "\n",
        "plt.title('indeks pendidikan')\n",
        "plt.xlabel('pendidikan')\n",
        "plt.ylabel('indeks')\n",
        "plt.xlim(0, 70)\n",
        "plt.ylim(0, 70)\n",
        "plt.grid(True)\n",
        "plt.show()"
      ],
      "metadata": {
        "colab": {
          "base_uri": "https://localhost:8080/",
          "height": 295
        },
        "id": "NqxQSlp0p2Yw",
        "outputId": "a5a5e629-385b-4948-d9e7-e0a051697428"
      },
      "execution_count": 6,
      "outputs": [
        {
          "output_type": "display_data",
          "data": {
            "text/plain": [
              "<Figure size 432x288 with 1 Axes>"
            ],
            "image/png": "[encoded data removed]"
          },
          "metadata": {
            "needs_background": "light"
          }
        }
      ]
    },
    {
      "cell_type": "code",
      "source": [
        "import numpy as np\n",
        "X = np.array(df['Jumlah Balita Terdaftar'])\n",
        "y = np.array(df['Jumlah Balita Aktif'])\n",
        "\n",
        "print(f'X : {X}')\n",
        "print(f'y : {y}')"
      ],
      "metadata": {
        "colab": {
          "base_uri": "https://localhost:8080/"
        },
        "id": "-6rpbxASsH9a",
        "outputId": "f6fb493f-0aac-465d-96e6-5eb1a2a87ec8"
      },
      "execution_count": 7,
      "outputs": [
        {
          "output_type": "stream",
          "name": "stdout",
          "text": [
            "X : [ 40  63  41  14  39  47  47  22  21  71  67  44  49  88  50  52  52  58\n",
            "  43  98  87  54  68  59  60  97  59  68  42 127  85  43  37 136 126  53\n",
            "  54  63  50  20  66  49  72  47  77  50  55  39  26  32  40  66  54  65\n",
            "  59  78  58  39  46  76  61  75  47 146 160  88 106 130  88 156  41  37\n",
            "  85  75  96]\n",
            "y : [ 40  63  41  14  39  47  47  22  21  71  67  44  49  88  50  52  52  58\n",
            "  43  98  87  54  68  59  60  97  59  68  42 127  85  43  37 136 126  53\n",
            "  54  63  50  20  66  49  72  47  77  50  55  39  26  32  40  66  54  65\n",
            "  59  78  58  39  46  76  61  75  47 146 160  88 106 130  88 156  41  37\n",
            "  85  75  96]\n"
          ]
        }
      ]
    },
    {
      "cell_type": "code",
      "source": [
        "X = X.reshape(-1, 1)\n",
        "X.shape"
      ],
      "metadata": {
        "colab": {
          "base_uri": "https://localhost:8080/"
        },
        "id": "HIbpUWs8uVLA",
        "outputId": "a736cfee-5c5f-4c82-f34f-1ecb86453d02"
      },
      "execution_count": 8,
      "outputs": [
        {
          "output_type": "execute_result",
          "data": {
            "text/plain": [
              "(75, 1)"
            ]
          },
          "metadata": {},
          "execution_count": 8
        }
      ]
    },
    {
      "cell_type": "code",
      "source": [
        "from sklearn.linear_model import LinearRegression\n",
        "\n",
        "model = LinearRegression()\n",
        "model.fit(X, y)"
      ],
      "metadata": {
        "colab": {
          "base_uri": "https://localhost:8080/"
        },
        "id": "8aGKxwtHuZNU",
        "outputId": "39138cc0-97ee-41a8-b9cc-db4d5443818a"
      },
      "execution_count": 9,
      "outputs": [
        {
          "output_type": "execute_result",
          "data": {
            "text/plain": [
              "LinearRegression()"
            ]
          },
          "metadata": {},
          "execution_count": 9
        }
      ]
    },
    {
      "cell_type": "code",
      "source": [
        "X_vis = np. array([0, 10000]).reshape(-1, 1)\n",
        "y_vis = model.predict(X_vis)"
      ],
      "metadata": {
        "id": "b2MqiW_juet_"
      },
      "execution_count": 10,
      "outputs": []
    },
    {
      "cell_type": "code",
      "source": [
        "plt.scatter(X, y)\n",
        "plt.plot(X_vis, y_vis,'-r')  \n",
        "plt.xlabel('Jumlah Balita Terdaftar')\n",
        "plt.ylabel('Jumlah Balita Aktif')\n",
        "plt.xlim(0, 70)\n",
        "plt.ylim(0, 70)\n",
        "plt.grid(True)\n",
        "plt.show()"
      ],
      "metadata": {
        "colab": {
          "base_uri": "https://localhost:8080/",
          "height": 283
        },
        "id": "R8H0RigMujd1",
        "outputId": "99486e04-2d28-44a6-bf55-b324d2cc5adc"
      },
      "execution_count": 11,
      "outputs": [
        {
          "output_type": "display_data",
          "data": {
            "text/plain": [
              "<Figure size 432x288 with 1 Axes>"
            ],
            "image/png": "[encoded data removed]"
          },
          "metadata": {
            "needs_background": "light"
          }
        }
      ]
    },
    {
      "cell_type": "code",
      "source": [
        "print(f'intercept : {model.intercept_}')\n",
        "print(f'slope : {model.coef_}')"
      ],
      "metadata": {
        "colab": {
          "base_uri": "https://localhost:8080/"
        },
        "id": "nbi9oDOHyNwn",
        "outputId": "b9d76a44-8809-4279-d449-8baa3429f3cd"
      },
      "execution_count": 12,
      "outputs": [
        {
          "output_type": "stream",
          "name": "stdout",
          "text": [
            "intercept : 1.4210854715202004e-14\n",
            "slope : [1.]\n"
          ]
        }
      ]
    },
    {
      "cell_type": "code",
      "source": [
        "belita = np.array([28, 31, 36, 39, 44]).reshape(-1, 1)\n",
        "belita"
      ],
      "metadata": {
        "colab": {
          "base_uri": "https://localhost:8080/"
        },
        "id": "4_4nWzpPyRUw",
        "outputId": "beeccc2e-bd7a-4536-98d8-90b935b491ee"
      },
      "execution_count": 13,
      "outputs": [
        {
          "output_type": "execute_result",
          "data": {
            "text/plain": [
              "array([[28],\n",
              "       [31],\n",
              "       [36],\n",
              "       [39],\n",
              "       [44]])"
            ]
          },
          "metadata": {},
          "execution_count": 13
        }
      ]
    },
    {
      "cell_type": "code",
      "source": [
        "prediksi_indeks = model.predict(belita)\n",
        "prediksi_indeks"
      ],
      "metadata": {
        "colab": {
          "base_uri": "https://localhost:8080/"
        },
        "id": "geVH8O47ynwl",
        "outputId": "d5834d64-b697-4c46-842b-ec5a6bdb2f76"
      },
      "execution_count": 14,
      "outputs": [
        {
          "output_type": "execute_result",
          "data": {
            "text/plain": [
              "array([28., 31., 36., 39., 44.])"
            ]
          },
          "metadata": {},
          "execution_count": 14
        }
      ]
    },
    {
      "cell_type": "code",
      "source": [
        "for Pendidik, index in zip(belita, prediksi_indeks):\n",
        "  print(f'jumlah belita : {Pendidik} prediksi indexs : {index}')"
      ],
      "metadata": {
        "colab": {
          "base_uri": "https://localhost:8080/"
        },
        "id": "S3AfbKYszecK",
        "outputId": "f573ac11-7934-4fcc-9ff8-90607b72d848"
      },
      "execution_count": 15,
      "outputs": [
        {
          "output_type": "stream",
          "name": "stdout",
          "text": [
            "jumlah belita : [28] prediksi indexs : 28.000000000000007\n",
            "jumlah belita : [31] prediksi indexs : 31.000000000000007\n",
            "jumlah belita : [36] prediksi indexs : 36.00000000000001\n",
            "jumlah belita : [39] prediksi indexs : 39.00000000000001\n",
            "jumlah belita : [44] prediksi indexs : 44.00000000000001\n"
          ]
        }
      ]
    },
    {
      "cell_type": "code",
      "source": [
        "print(\"Jumlah Balita Terdaftar : \")\n",
        "df['Jumlah Balita Terdaftar'].sum()"
      ],
      "metadata": {
        "colab": {
          "base_uri": "https://localhost:8080/"
        },
        "id": "qkP2FvMrz15k",
        "outputId": "70e94357-7e4b-44d2-9223-9b9eeed486a3"
      },
      "execution_count": 17,
      "outputs": [
        {
          "output_type": "stream",
          "name": "stdout",
          "text": [
            "Jumlah Balita Terdaftar : \n"
          ]
        },
        {
          "output_type": "execute_result",
          "data": {
            "text/plain": [
              "4879"
            ]
          },
          "metadata": {},
          "execution_count": 17
        }
      ]
    },
    {
      "cell_type": "code",
      "source": [
        "print(\"Jumlah Balita Aktif : \")\n",
        "df['Jumlah Balita Aktif'].sum()"
      ],
      "metadata": {
        "colab": {
          "base_uri": "https://localhost:8080/"
        },
        "id": "_u4AJF3AWRw3",
        "outputId": "83a30ef7-e128-4853-a745-6baec2f330ca"
      },
      "execution_count": 20,
      "outputs": [
        {
          "output_type": "stream",
          "name": "stdout",
          "text": [
            "Jumlah Balita Aktif : \n"
          ]
        },
        {
          "output_type": "execute_result",
          "data": {
            "text/plain": [
              "4879"
            ]
          },
          "metadata": {},
          "execution_count": 20
        }
      ]
    },
    {
      "cell_type": "code",
      "source": [
        "print()\n",
        "fig = plt.figure()\n",
        "ax = fig.add_axes([0,0,1,1])\n",
        "eskul = ['Jumlah Balita Terdaftar','Jumlah Balita Aktif']\n",
        "pengikut = [4879, 4879]\n",
        "c = ['red', 'blue']\n",
        "plt.title(\"Jumlah kesehatan\")\n",
        "plt.bar(eskul, pengikut, color = c)\n",
        "plt.show()\n",
        "print()\n",
        "fig = plt.figure()\n",
        "ax = fig.add_axes([0,0,1,1])\n",
        "ax.axis('equal')\n",
        "jurusan = ['Jumlah Balita Terdaftar','Jumlah Balita Aktif']\n",
        "siswa =[4879, 4879]\n",
        "ax.pie(siswa,labels=jurusan,autopct= '%1.2f%%')\n",
        "plt.title(\"Jumlah kesehatan\")\n",
        "plt.show()"
      ],
      "metadata": {
        "colab": {
          "base_uri": "https://localhost:8080/",
          "height": 705
        },
        "id": "clbFbQLOXDl-",
        "outputId": "b1b17abd-41d9-4cfa-e610-45257154fd05"
      },
      "execution_count": 26,
      "outputs": [
        {
          "output_type": "stream",
          "name": "stdout",
          "text": [
            "\n"
          ]
        },
        {
          "output_type": "display_data",
          "data": {
            "text/plain": [
              "<Figure size 432x288 with 1 Axes>"
            ],
            "image/png": "[encoded data removed]"
          },
          "metadata": {
            "needs_background": "light"
          }
        },
        {
          "output_type": "stream",
          "name": "stdout",
          "text": [
            "\n"
          ]
        },
        {
          "output_type": "display_data",
          "data": {
            "text/plain": [
              "<Figure size 432x288 with 1 Axes>"
            ],
            "image/png": "[encoded data removed]"
          },
          "metadata": {}
        }
      ]
    }
  ]
}