{
  "nbformat": 4,
  "nbformat_minor": 0,
  "metadata": {
    "colab": {
      "provenance": []
    },
    "kernelspec": {
      "name": "python3",
      "display_name": "Python 3"
    },
    "language_info": {
      "name": "python"
    }
  },
  "cells": [
    {
      "cell_type": "code",
      "execution_count": 8,
      "metadata": {
        "colab": {
          "base_uri": "https://localhost:8080/"
        },
        "id": "JbPNGxkS-sMe",
        "outputId": "d5c688bc-5469-4db6-beb7-2d65cbd6ffa3"
      },
      "outputs": [
        {
          "output_type": "stream",
          "name": "stdout",
          "text": [
            "Drive already mounted at /content/drive; to attempt to forcibly remount, call drive.mount(\"/content/drive\", force_remount=True).\n"
          ]
        }
      ],
      "source": [
        "import pandas as pd\n",
        "from google.colab import drive\n",
        "drive.mount('/content/drive')"
      ]
    },
    {
      "cell_type": "code",
      "source": [
        "from google.colab import drive\n",
        "drive.mount('/content/drive')"
      ],
      "metadata": {
        "colab": {
          "base_uri": "https://localhost:8080/"
        },
        "id": "UuWB0HdL-0rD",
        "outputId": "d00f5cff-686e-475c-8e23-1f9f3fb3abf2"
      },
      "execution_count": 7,
      "outputs": [
        {
          "output_type": "stream",
          "name": "stdout",
          "text": [
            "Drive already mounted at /content/drive; to attempt to forcibly remount, call drive.mount(\"/content/drive\", force_remount=True).\n"
          ]
        }
      ]
    },
    {
      "cell_type": "code",
      "source": [
        "path ='/content/drive/MyDrive/CSV/data11.csv'\n",
        "df =pd.read_csv(path)\n",
        "\n",
        "df.describe()"
      ],
      "metadata": {
        "colab": {
          "base_uri": "https://localhost:8080/",
          "height": 300
        },
        "id": "o716G3FC_CeG",
        "outputId": "f07e3414-45e7-4f10-fb87-06e235d91fee"
      },
      "execution_count": 88,
      "outputs": [
        {
          "output_type": "execute_result",
          "data": {
            "text/plain": [
              "            pm10         co         o3        no2        max\n",
              "count  26.000000  26.000000  26.000000  26.000000  26.000000\n",
              "mean   40.461538  18.769231  31.923077  11.269231  41.153846\n",
              "std     9.407362   6.742745   8.744933   4.035420   8.762156\n",
              "min    24.000000  10.000000  16.000000   6.000000  25.000000\n",
              "25%    34.000000  14.000000  26.250000   8.000000  36.000000\n",
              "50%    39.500000  17.000000  31.500000   9.500000  39.500000\n",
              "75%    45.750000  23.750000  35.750000  14.500000  45.750000\n",
              "max    63.000000  36.000000  58.000000  20.000000  63.000000"
            ],
            "text/html": [
              "\n",
              "  <div id=\"df-ac2b561d-a6c9-4bf9-86d3-bb08e326d2df\">\n",
              "    <div class=\"colab-df-container\">\n",
              "      <div>\n",
              "<style scoped>\n",
              "    .dataframe tbody tr th:only-of-type {\n",
              "        vertical-align: middle;\n",
              "    }\n",
              "\n",
              "    .dataframe tbody tr th {\n",
              "        vertical-align: top;\n",
              "    }\n",
              "\n",
              "    .dataframe thead th {\n",
              "        text-align: right;\n",
              "    }\n",
              "</style>\n",
              "<table border=\"1\" class=\"dataframe\">\n",
              "  <thead>\n",
              "    <tr style=\"text-align: right;\">\n",
              "      <th></th>\n",
              "      <th>pm10</th>\n",
              "      <th>co</th>\n",
              "      <th>o3</th>\n",
              "      <th>no2</th>\n",
              "      <th>max</th>\n",
              "    </tr>\n",
              "  </thead>\n",
              "  <tbody>\n",
              "    <tr>\n",
              "      <th>count</th>\n",
              "      <td>26.000000</td>\n",
              "      <td>26.000000</td>\n",
              "      <td>26.000000</td>\n",
              "      <td>26.000000</td>\n",
              "      <td>26.000000</td>\n",
              "    </tr>\n",
              "    <tr>\n",
              "      <th>mean</th>\n",
              "      <td>40.461538</td>\n",
              "      <td>18.769231</td>\n",
              "      <td>31.923077</td>\n",
              "      <td>11.269231</td>\n",
              "      <td>41.153846</td>\n",
              "    </tr>\n",
              "    <tr>\n",
              "      <th>std</th>\n",
              "      <td>9.407362</td>\n",
              "      <td>6.742745</td>\n",
              "      <td>8.744933</td>\n",
              "      <td>4.035420</td>\n",
              "      <td>8.762156</td>\n",
              "    </tr>\n",
              "    <tr>\n",
              "      <th>min</th>\n",
              "      <td>24.000000</td>\n",
              "      <td>10.000000</td>\n",
              "      <td>16.000000</td>\n",
              "      <td>6.000000</td>\n",
              "      <td>25.000000</td>\n",
              "    </tr>\n",
              "    <tr>\n",
              "      <th>25%</th>\n",
              "      <td>34.000000</td>\n",
              "      <td>14.000000</td>\n",
              "      <td>26.250000</td>\n",
              "      <td>8.000000</td>\n",
              "      <td>36.000000</td>\n",
              "    </tr>\n",
              "    <tr>\n",
              "      <th>50%</th>\n",
              "      <td>39.500000</td>\n",
              "      <td>17.000000</td>\n",
              "      <td>31.500000</td>\n",
              "      <td>9.500000</td>\n",
              "      <td>39.500000</td>\n",
              "    </tr>\n",
              "    <tr>\n",
              "      <th>75%</th>\n",
              "      <td>45.750000</td>\n",
              "      <td>23.750000</td>\n",
              "      <td>35.750000</td>\n",
              "      <td>14.500000</td>\n",
              "      <td>45.750000</td>\n",
              "    </tr>\n",
              "    <tr>\n",
              "      <th>max</th>\n",
              "      <td>63.000000</td>\n",
              "      <td>36.000000</td>\n",
              "      <td>58.000000</td>\n",
              "      <td>20.000000</td>\n",
              "      <td>63.000000</td>\n",
              "    </tr>\n",
              "  </tbody>\n",
              "</table>\n",
              "</div>\n",
              "      <button class=\"colab-df-convert\" onclick=\"convertToInteractive('df-ac2b561d-a6c9-4bf9-86d3-bb08e326d2df')\"\n",
              "              title=\"Convert this dataframe to an interactive table.\"\n",
              "              style=\"display:none;\">\n",
              "        \n",
              "  <svg xmlns=\"http://www.w3.org/2000/svg\" height=\"24px\"viewBox=\"0 0 24 24\"\n",
              "       width=\"24px\">\n",
              "    <path d=\"M0 0h24v24H0V0z\" fill=\"none\"/>\n",
              "    <path d=\"M18.56 5.44l.94 2.06.94-2.06 2.06-.94-2.06-.94-.94-2.06-.94 2.06-2.06.94zm-11 1L8.5 8.5l.94-2.06 2.06-.94-2.06-.94L8.5 2.5l-.94 2.06-2.06.94zm10 10l.94 2.06.94-2.06 2.06-.94-2.06-.94-.94-2.06-.94 2.06-2.06.94z\"/><path d=\"M17.41 7.96l-1.37-1.37c-.4-.4-.92-.59-1.43-.59-.52 0-1.04.2-1.43.59L10.3 9.45l-7.72 7.72c-.78.78-.78 2.05 0 2.83L4 21.41c.39.39.9.59 1.41.59.51 0 1.02-.2 1.41-.59l7.78-7.78 2.81-2.81c.8-.78.8-2.07 0-2.86zM5.41 20L4 18.59l7.72-7.72 1.47 1.35L5.41 20z\"/>\n",
              "  </svg>\n",
              "      </button>\n",
              "      \n",
              "  <style>\n",
              "    .colab-df-container {\n",
              "      display:flex;\n",
              "      flex-wrap:wrap;\n",
              "      gap: 12px;\n",
              "    }\n",
              "\n",
              "    .colab-df-convert {\n",
              "      background-color: #E8F0FE;\n",
              "      border: none;\n",
              "      border-radius: 50%;\n",
              "      cursor: pointer;\n",
              "      display: none;\n",
              "      fill: #1967D2;\n",
              "      height: 32px;\n",
              "      padding: 0 0 0 0;\n",
              "      width: 32px;\n",
              "    }\n",
              "\n",
              "    .colab-df-convert:hover {\n",
              "      background-color: #E2EBFA;\n",
              "      box-shadow: 0px 1px 2px rgba(60, 64, 67, 0.3), 0px 1px 3px 1px rgba(60, 64, 67, 0.15);\n",
              "      fill: #174EA6;\n",
              "    }\n",
              "\n",
              "    [theme=dark] .colab-df-convert {\n",
              "      background-color: #3B4455;\n",
              "      fill: #D2E3FC;\n",
              "    }\n",
              "\n",
              "    [theme=dark] .colab-df-convert:hover {\n",
              "      background-color: #434B5C;\n",
              "      box-shadow: 0px 1px 3px 1px rgba(0, 0, 0, 0.15);\n",
              "      filter: drop-shadow(0px 1px 2px rgba(0, 0, 0, 0.3));\n",
              "      fill: #FFFFFF;\n",
              "    }\n",
              "  </style>\n",
              "\n",
              "      <script>\n",
              "        const buttonEl =\n",
              "          document.querySelector('#df-ac2b561d-a6c9-4bf9-86d3-bb08e326d2df button.colab-df-convert');\n",
              "        buttonEl.style.display =\n",
              "          google.colab.kernel.accessAllowed ? 'block' : 'none';\n",
              "\n",
              "        async function convertToInteractive(key) {\n",
              "          const element = document.querySelector('#df-ac2b561d-a6c9-4bf9-86d3-bb08e326d2df');\n",
              "          const dataTable =\n",
              "            await google.colab.kernel.invokeFunction('convertToInteractive',\n",
              "                                                     [key], {});\n",
              "          if (!dataTable) return;\n",
              "\n",
              "          const docLinkHtml = 'Like what you see? Visit the ' +\n",
              "            '<a target=\"_blank\" href=https://colab.research.google.com/notebooks/data_table.ipynb>data table notebook</a>'\n",
              "            + ' to learn more about interactive tables.';\n",
              "          element.innerHTML = '';\n",
              "          dataTable['output_type'] = 'display_data';\n",
              "          await google.colab.output.renderOutput(dataTable, element);\n",
              "          const docLink = document.createElement('div');\n",
              "          docLink.innerHTML = docLinkHtml;\n",
              "          element.appendChild(docLink);\n",
              "        }\n",
              "      </script>\n",
              "    </div>\n",
              "  </div>\n",
              "  "
            ]
          },
          "metadata": {},
          "execution_count": 88
        }
      ]
    },
    {
      "cell_type": "code",
      "source": [
        "df"
      ],
      "metadata": {
        "colab": {
          "base_uri": "https://localhost:8080/",
          "height": 865
        },
        "id": "gu8qilFY_ZUk",
        "outputId": "36506d9f-80c3-4c38-b6a4-2205645bea08"
      },
      "execution_count": 89,
      "outputs": [
        {
          "output_type": "execute_result",
          "data": {
            "text/plain": [
              "       tanggal               stasiun  pm10  so2  co  o3  no2  max critical  \\\n",
              "0   2020-01-01    DKI1 (Bunderan HI)    30   20  10  32    9   32       O3   \n",
              "1   2020-01-02    DKI1 (Bunderan HI)    27   22  12  29    8   29       O3   \n",
              "2   2020-01-03    DKI1 (Bunderan HI)    39   22  14  32   10   39     PM10   \n",
              "3   2020-01-04    DKI1 (Bunderan HI)    34   22  14  38   10   38       O3   \n",
              "4   2020-01-05    DKI1 (Bunderan HI)    35   22  12  31    9   35     PM10   \n",
              "5   2020-01-06    DKI1 (Bunderan HI)    46   23  16  32    9   46     PM10   \n",
              "6   2020-01-07    DKI1 (Bunderan HI)    37   23  26  33   11   37     PM10   \n",
              "7   2020-01-08    DKI1 (Bunderan HI)    41   26  20  30   11   41     PM10   \n",
              "8   2020-01-09    DKI1 (Bunderan HI)    52   23  29  24   12   52     PM10   \n",
              "9   2020-01-10    DKI1 (Bunderan HI)    24   24  18  25    8   25       O3   \n",
              "10  2020-01-11    DKI1 (Bunderan HI)    34   31  25  23    8   34     PM10   \n",
              "11  2020-01-13    DKI1 (Bunderan HI)    33   26  12  36    8   36       O3   \n",
              "12  2020-01-14    DKI1 (Bunderan HI)    34   28  13  27    7   34     PM10   \n",
              "13  2020-01-18    DKI1 (Bunderan HI)    37   29  14  31    6   37     PM10   \n",
              "14  2020-01-19    DKI1 (Bunderan HI)    61   34  36  58   15   61     PM10   \n",
              "15  2020-01-20    DKI1 (Bunderan HI)    47   30  15  33    9   47     PM10   \n",
              "16  2020-01-21    DKI1 (Bunderan HI)    30   36  14  26    9   36      SO2   \n",
              "17  2020-01-22    DKI1 (Bunderan HI)    40   36  18  28   15   40     PM10   \n",
              "18  2020-01-23    DKI1 (Bunderan HI)    41  ---  27  19   18   41     PM10   \n",
              "19  2020-01-24    DKI1 (Bunderan HI)    44  ---  24  16   13   44     PM10   \n",
              "20  2020-01-28    DKI1 (Bunderan HI)    63  ---  27  40   17   63     PM10   \n",
              "21  2020-01-29    DKI1 (Bunderan HI)    49   11  23  38   19   49     PM10   \n",
              "22  2020-01-30    DKI1 (Bunderan HI)    38   12  21  35   20   38     PM10   \n",
              "23  2020-01-31    DKI1 (Bunderan HI)    44   10  22  25   16   44     PM10   \n",
              "24  2020-01-03  DKI2 (Kelapa Gading)    47    7  16  45    8   47     PM10   \n",
              "25  2020-01-04  DKI2 (Kelapa Gading)    45    7  10  44    8   45     PM10   \n",
              "\n",
              "   categori  \n",
              "0      BAIK  \n",
              "1      BAIK  \n",
              "2      BAIK  \n",
              "3      BAIK  \n",
              "4      BAIK  \n",
              "5      BAIK  \n",
              "6      BAIK  \n",
              "7      BAIK  \n",
              "8    SEDANG  \n",
              "9      BAIK  \n",
              "10     BAIK  \n",
              "11     BAIK  \n",
              "12     BAIK  \n",
              "13     BAIK  \n",
              "14   SEDANG  \n",
              "15     BAIK  \n",
              "16     BAIK  \n",
              "17     BAIK  \n",
              "18     BAIK  \n",
              "19     BAIK  \n",
              "20   SEDANG  \n",
              "21     BAIK  \n",
              "22     BAIK  \n",
              "23     BAIK  \n",
              "24     BAIK  \n",
              "25     BAIK  "
            ],
            "text/html": [
              "\n",
              "  <div id=\"df-852299f0-ab45-4860-8c67-c141a0d73631\">\n",
              "    <div class=\"colab-df-container\">\n",
              "      <div>\n",
              "<style scoped>\n",
              "    .dataframe tbody tr th:only-of-type {\n",
              "        vertical-align: middle;\n",
              "    }\n",
              "\n",
              "    .dataframe tbody tr th {\n",
              "        vertical-align: top;\n",
              "    }\n",
              "\n",
              "    .dataframe thead th {\n",
              "        text-align: right;\n",
              "    }\n",
              "</style>\n",
              "<table border=\"1\" class=\"dataframe\">\n",
              "  <thead>\n",
              "    <tr style=\"text-align: right;\">\n",
              "      <th></th>\n",
              "      <th>tanggal</th>\n",
              "      <th>stasiun</th>\n",
              "      <th>pm10</th>\n",
              "      <th>so2</th>\n",
              "      <th>co</th>\n",
              "      <th>o3</th>\n",
              "      <th>no2</th>\n",
              "      <th>max</th>\n",
              "      <th>critical</th>\n",
              "      <th>categori</th>\n",
              "    </tr>\n",
              "  </thead>\n",
              "  <tbody>\n",
              "    <tr>\n",
              "      <th>0</th>\n",
              "      <td>2020-01-01</td>\n",
              "      <td>DKI1 (Bunderan HI)</td>\n",
              "      <td>30</td>\n",
              "      <td>20</td>\n",
              "      <td>10</td>\n",
              "      <td>32</td>\n",
              "      <td>9</td>\n",
              "      <td>32</td>\n",
              "      <td>O3</td>\n",
              "      <td>BAIK</td>\n",
              "    </tr>\n",
              "    <tr>\n",
              "      <th>1</th>\n",
              "      <td>2020-01-02</td>\n",
              "      <td>DKI1 (Bunderan HI)</td>\n",
              "      <td>27</td>\n",
              "      <td>22</td>\n",
              "      <td>12</td>\n",
              "      <td>29</td>\n",
              "      <td>8</td>\n",
              "      <td>29</td>\n",
              "      <td>O3</td>\n",
              "      <td>BAIK</td>\n",
              "    </tr>\n",
              "    <tr>\n",
              "      <th>2</th>\n",
              "      <td>2020-01-03</td>\n",
              "      <td>DKI1 (Bunderan HI)</td>\n",
              "      <td>39</td>\n",
              "      <td>22</td>\n",
              "      <td>14</td>\n",
              "      <td>32</td>\n",
              "      <td>10</td>\n",
              "      <td>39</td>\n",
              "      <td>PM10</td>\n",
              "      <td>BAIK</td>\n",
              "    </tr>\n",
              "    <tr>\n",
              "      <th>3</th>\n",
              "      <td>2020-01-04</td>\n",
              "      <td>DKI1 (Bunderan HI)</td>\n",
              "      <td>34</td>\n",
              "      <td>22</td>\n",
              "      <td>14</td>\n",
              "      <td>38</td>\n",
              "      <td>10</td>\n",
              "      <td>38</td>\n",
              "      <td>O3</td>\n",
              "      <td>BAIK</td>\n",
              "    </tr>\n",
              "    <tr>\n",
              "      <th>4</th>\n",
              "      <td>2020-01-05</td>\n",
              "      <td>DKI1 (Bunderan HI)</td>\n",
              "      <td>35</td>\n",
              "      <td>22</td>\n",
              "      <td>12</td>\n",
              "      <td>31</td>\n",
              "      <td>9</td>\n",
              "      <td>35</td>\n",
              "      <td>PM10</td>\n",
              "      <td>BAIK</td>\n",
              "    </tr>\n",
              "    <tr>\n",
              "      <th>5</th>\n",
              "      <td>2020-01-06</td>\n",
              "      <td>DKI1 (Bunderan HI)</td>\n",
              "      <td>46</td>\n",
              "      <td>23</td>\n",
              "      <td>16</td>\n",
              "      <td>32</td>\n",
              "      <td>9</td>\n",
              "      <td>46</td>\n",
              "      <td>PM10</td>\n",
              "      <td>BAIK</td>\n",
              "    </tr>\n",
              "    <tr>\n",
              "      <th>6</th>\n",
              "      <td>2020-01-07</td>\n",
              "      <td>DKI1 (Bunderan HI)</td>\n",
              "      <td>37</td>\n",
              "      <td>23</td>\n",
              "      <td>26</td>\n",
              "      <td>33</td>\n",
              "      <td>11</td>\n",
              "      <td>37</td>\n",
              "      <td>PM10</td>\n",
              "      <td>BAIK</td>\n",
              "    </tr>\n",
              "    <tr>\n",
              "      <th>7</th>\n",
              "      <td>2020-01-08</td>\n",
              "      <td>DKI1 (Bunderan HI)</td>\n",
              "      <td>41</td>\n",
              "      <td>26</td>\n",
              "      <td>20</td>\n",
              "      <td>30</td>\n",
              "      <td>11</td>\n",
              "      <td>41</td>\n",
              "      <td>PM10</td>\n",
              "      <td>BAIK</td>\n",
              "    </tr>\n",
              "    <tr>\n",
              "      <th>8</th>\n",
              "      <td>2020-01-09</td>\n",
              "      <td>DKI1 (Bunderan HI)</td>\n",
              "      <td>52</td>\n",
              "      <td>23</td>\n",
              "      <td>29</td>\n",
              "      <td>24</td>\n",
              "      <td>12</td>\n",
              "      <td>52</td>\n",
              "      <td>PM10</td>\n",
              "      <td>SEDANG</td>\n",
              "    </tr>\n",
              "    <tr>\n",
              "      <th>9</th>\n",
              "      <td>2020-01-10</td>\n",
              "      <td>DKI1 (Bunderan HI)</td>\n",
              "      <td>24</td>\n",
              "      <td>24</td>\n",
              "      <td>18</td>\n",
              "      <td>25</td>\n",
              "      <td>8</td>\n",
              "      <td>25</td>\n",
              "      <td>O3</td>\n",
              "      <td>BAIK</td>\n",
              "    </tr>\n",
              "    <tr>\n",
              "      <th>10</th>\n",
              "      <td>2020-01-11</td>\n",
              "      <td>DKI1 (Bunderan HI)</td>\n",
              "      <td>34</td>\n",
              "      <td>31</td>\n",
              "      <td>25</td>\n",
              "      <td>23</td>\n",
              "      <td>8</td>\n",
              "      <td>34</td>\n",
              "      <td>PM10</td>\n",
              "      <td>BAIK</td>\n",
              "    </tr>\n",
              "    <tr>\n",
              "      <th>11</th>\n",
              "      <td>2020-01-13</td>\n",
              "      <td>DKI1 (Bunderan HI)</td>\n",
              "      <td>33</td>\n",
              "      <td>26</td>\n",
              "      <td>12</td>\n",
              "      <td>36</td>\n",
              "      <td>8</td>\n",
              "      <td>36</td>\n",
              "      <td>O3</td>\n",
              "      <td>BAIK</td>\n",
              "    </tr>\n",
              "    <tr>\n",
              "      <th>12</th>\n",
              "      <td>2020-01-14</td>\n",
              "      <td>DKI1 (Bunderan HI)</td>\n",
              "      <td>34</td>\n",
              "      <td>28</td>\n",
              "      <td>13</td>\n",
              "      <td>27</td>\n",
              "      <td>7</td>\n",
              "      <td>34</td>\n",
              "      <td>PM10</td>\n",
              "      <td>BAIK</td>\n",
              "    </tr>\n",
              "    <tr>\n",
              "      <th>13</th>\n",
              "      <td>2020-01-18</td>\n",
              "      <td>DKI1 (Bunderan HI)</td>\n",
              "      <td>37</td>\n",
              "      <td>29</td>\n",
              "      <td>14</td>\n",
              "      <td>31</td>\n",
              "      <td>6</td>\n",
              "      <td>37</td>\n",
              "      <td>PM10</td>\n",
              "      <td>BAIK</td>\n",
              "    </tr>\n",
              "    <tr>\n",
              "      <th>14</th>\n",
              "      <td>2020-01-19</td>\n",
              "      <td>DKI1 (Bunderan HI)</td>\n",
              "      <td>61</td>\n",
              "      <td>34</td>\n",
              "      <td>36</td>\n",
              "      <td>58</td>\n",
              "      <td>15</td>\n",
              "      <td>61</td>\n",
              "      <td>PM10</td>\n",
              "      <td>SEDANG</td>\n",
              "    </tr>\n",
              "    <tr>\n",
              "      <th>15</th>\n",
              "      <td>2020-01-20</td>\n",
              "      <td>DKI1 (Bunderan HI)</td>\n",
              "      <td>47</td>\n",
              "      <td>30</td>\n",
              "      <td>15</td>\n",
              "      <td>33</td>\n",
              "      <td>9</td>\n",
              "      <td>47</td>\n",
              "      <td>PM10</td>\n",
              "      <td>BAIK</td>\n",
              "    </tr>\n",
              "    <tr>\n",
              "      <th>16</th>\n",
              "      <td>2020-01-21</td>\n",
              "      <td>DKI1 (Bunderan HI)</td>\n",
              "      <td>30</td>\n",
              "      <td>36</td>\n",
              "      <td>14</td>\n",
              "      <td>26</td>\n",
              "      <td>9</td>\n",
              "      <td>36</td>\n",
              "      <td>SO2</td>\n",
              "      <td>BAIK</td>\n",
              "    </tr>\n",
              "    <tr>\n",
              "      <th>17</th>\n",
              "      <td>2020-01-22</td>\n",
              "      <td>DKI1 (Bunderan HI)</td>\n",
              "      <td>40</td>\n",
              "      <td>36</td>\n",
              "      <td>18</td>\n",
              "      <td>28</td>\n",
              "      <td>15</td>\n",
              "      <td>40</td>\n",
              "      <td>PM10</td>\n",
              "      <td>BAIK</td>\n",
              "    </tr>\n",
              "    <tr>\n",
              "      <th>18</th>\n",
              "      <td>2020-01-23</td>\n",
              "      <td>DKI1 (Bunderan HI)</td>\n",
              "      <td>41</td>\n",
              "      <td>---</td>\n",
              "      <td>27</td>\n",
              "      <td>19</td>\n",
              "      <td>18</td>\n",
              "      <td>41</td>\n",
              "      <td>PM10</td>\n",
              "      <td>BAIK</td>\n",
              "    </tr>\n",
              "    <tr>\n",
              "      <th>19</th>\n",
              "      <td>2020-01-24</td>\n",
              "      <td>DKI1 (Bunderan HI)</td>\n",
              "      <td>44</td>\n",
              "      <td>---</td>\n",
              "      <td>24</td>\n",
              "      <td>16</td>\n",
              "      <td>13</td>\n",
              "      <td>44</td>\n",
              "      <td>PM10</td>\n",
              "      <td>BAIK</td>\n",
              "    </tr>\n",
              "    <tr>\n",
              "      <th>20</th>\n",
              "      <td>2020-01-28</td>\n",
              "      <td>DKI1 (Bunderan HI)</td>\n",
              "      <td>63</td>\n",
              "      <td>---</td>\n",
              "      <td>27</td>\n",
              "      <td>40</td>\n",
              "      <td>17</td>\n",
              "      <td>63</td>\n",
              "      <td>PM10</td>\n",
              "      <td>SEDANG</td>\n",
              "    </tr>\n",
              "    <tr>\n",
              "      <th>21</th>\n",
              "      <td>2020-01-29</td>\n",
              "      <td>DKI1 (Bunderan HI)</td>\n",
              "      <td>49</td>\n",
              "      <td>11</td>\n",
              "      <td>23</td>\n",
              "      <td>38</td>\n",
              "      <td>19</td>\n",
              "      <td>49</td>\n",
              "      <td>PM10</td>\n",
              "      <td>BAIK</td>\n",
              "    </tr>\n",
              "    <tr>\n",
              "      <th>22</th>\n",
              "      <td>2020-01-30</td>\n",
              "      <td>DKI1 (Bunderan HI)</td>\n",
              "      <td>38</td>\n",
              "      <td>12</td>\n",
              "      <td>21</td>\n",
              "      <td>35</td>\n",
              "      <td>20</td>\n",
              "      <td>38</td>\n",
              "      <td>PM10</td>\n",
              "      <td>BAIK</td>\n",
              "    </tr>\n",
              "    <tr>\n",
              "      <th>23</th>\n",
              "      <td>2020-01-31</td>\n",
              "      <td>DKI1 (Bunderan HI)</td>\n",
              "      <td>44</td>\n",
              "      <td>10</td>\n",
              "      <td>22</td>\n",
              "      <td>25</td>\n",
              "      <td>16</td>\n",
              "      <td>44</td>\n",
              "      <td>PM10</td>\n",
              "      <td>BAIK</td>\n",
              "    </tr>\n",
              "    <tr>\n",
              "      <th>24</th>\n",
              "      <td>2020-01-03</td>\n",
              "      <td>DKI2 (Kelapa Gading)</td>\n",
              "      <td>47</td>\n",
              "      <td>7</td>\n",
              "      <td>16</td>\n",
              "      <td>45</td>\n",
              "      <td>8</td>\n",
              "      <td>47</td>\n",
              "      <td>PM10</td>\n",
              "      <td>BAIK</td>\n",
              "    </tr>\n",
              "    <tr>\n",
              "      <th>25</th>\n",
              "      <td>2020-01-04</td>\n",
              "      <td>DKI2 (Kelapa Gading)</td>\n",
              "      <td>45</td>\n",
              "      <td>7</td>\n",
              "      <td>10</td>\n",
              "      <td>44</td>\n",
              "      <td>8</td>\n",
              "      <td>45</td>\n",
              "      <td>PM10</td>\n",
              "      <td>BAIK</td>\n",
              "    </tr>\n",
              "  </tbody>\n",
              "</table>\n",
              "</div>\n",
              "      <button class=\"colab-df-convert\" onclick=\"convertToInteractive('df-852299f0-ab45-4860-8c67-c141a0d73631')\"\n",
              "              title=\"Convert this dataframe to an interactive table.\"\n",
              "              style=\"display:none;\">\n",
              "        \n",
              "  <svg xmlns=\"http://www.w3.org/2000/svg\" height=\"24px\"viewBox=\"0 0 24 24\"\n",
              "       width=\"24px\">\n",
              "    <path d=\"M0 0h24v24H0V0z\" fill=\"none\"/>\n",
              "    <path d=\"M18.56 5.44l.94 2.06.94-2.06 2.06-.94-2.06-.94-.94-2.06-.94 2.06-2.06.94zm-11 1L8.5 8.5l.94-2.06 2.06-.94-2.06-.94L8.5 2.5l-.94 2.06-2.06.94zm10 10l.94 2.06.94-2.06 2.06-.94-2.06-.94-.94-2.06-.94 2.06-2.06.94z\"/><path d=\"M17.41 7.96l-1.37-1.37c-.4-.4-.92-.59-1.43-.59-.52 0-1.04.2-1.43.59L10.3 9.45l-7.72 7.72c-.78.78-.78 2.05 0 2.83L4 21.41c.39.39.9.59 1.41.59.51 0 1.02-.2 1.41-.59l7.78-7.78 2.81-2.81c.8-.78.8-2.07 0-2.86zM5.41 20L4 18.59l7.72-7.72 1.47 1.35L5.41 20z\"/>\n",
              "  </svg>\n",
              "      </button>\n",
              "      \n",
              "  <style>\n",
              "    .colab-df-container {\n",
              "      display:flex;\n",
              "      flex-wrap:wrap;\n",
              "      gap: 12px;\n",
              "    }\n",
              "\n",
              "    .colab-df-convert {\n",
              "      background-color: #E8F0FE;\n",
              "      border: none;\n",
              "      border-radius: 50%;\n",
              "      cursor: pointer;\n",
              "      display: none;\n",
              "      fill: #1967D2;\n",
              "      height: 32px;\n",
              "      padding: 0 0 0 0;\n",
              "      width: 32px;\n",
              "    }\n",
              "\n",
              "    .colab-df-convert:hover {\n",
              "      background-color: #E2EBFA;\n",
              "      box-shadow: 0px 1px 2px rgba(60, 64, 67, 0.3), 0px 1px 3px 1px rgba(60, 64, 67, 0.15);\n",
              "      fill: #174EA6;\n",
              "    }\n",
              "\n",
              "    [theme=dark] .colab-df-convert {\n",
              "      background-color: #3B4455;\n",
              "      fill: #D2E3FC;\n",
              "    }\n",
              "\n",
              "    [theme=dark] .colab-df-convert:hover {\n",
              "      background-color: #434B5C;\n",
              "      box-shadow: 0px 1px 3px 1px rgba(0, 0, 0, 0.15);\n",
              "      filter: drop-shadow(0px 1px 2px rgba(0, 0, 0, 0.3));\n",
              "      fill: #FFFFFF;\n",
              "    }\n",
              "  </style>\n",
              "\n",
              "      <script>\n",
              "        const buttonEl =\n",
              "          document.querySelector('#df-852299f0-ab45-4860-8c67-c141a0d73631 button.colab-df-convert');\n",
              "        buttonEl.style.display =\n",
              "          google.colab.kernel.accessAllowed ? 'block' : 'none';\n",
              "\n",
              "        async function convertToInteractive(key) {\n",
              "          const element = document.querySelector('#df-852299f0-ab45-4860-8c67-c141a0d73631');\n",
              "          const dataTable =\n",
              "            await google.colab.kernel.invokeFunction('convertToInteractive',\n",
              "                                                     [key], {});\n",
              "          if (!dataTable) return;\n",
              "\n",
              "          const docLinkHtml = 'Like what you see? Visit the ' +\n",
              "            '<a target=\"_blank\" href=https://colab.research.google.com/notebooks/data_table.ipynb>data table notebook</a>'\n",
              "            + ' to learn more about interactive tables.';\n",
              "          element.innerHTML = '';\n",
              "          dataTable['output_type'] = 'display_data';\n",
              "          await google.colab.output.renderOutput(dataTable, element);\n",
              "          const docLink = document.createElement('div');\n",
              "          docLink.innerHTML = docLinkHtml;\n",
              "          element.appendChild(docLink);\n",
              "        }\n",
              "      </script>\n",
              "    </div>\n",
              "  </div>\n",
              "  "
            ]
          },
          "metadata": {},
          "execution_count": 89
        }
      ]
    },
    {
      "cell_type": "code",
      "source": [
        "import matplotlib.pyplot as plt\n",
        "df.plot(kind = 'scatter', x='pm10', y='max')\n",
        "\n",
        "plt.title('indeks pendidikan')\n",
        "plt.xlabel('pendidikan')\n",
        "plt.ylabel('indeks')\n",
        "plt.xlim(0, 70)\n",
        "plt.ylim(0, 70)\n",
        "plt.grid(True)\n",
        "plt.show()"
      ],
      "metadata": {
        "colab": {
          "base_uri": "https://localhost:8080/",
          "height": 295
        },
        "id": "jjzNpLRf_a26",
        "outputId": "b87f945f-ad7d-4fe6-8ccb-9d8c0bed4026"
      },
      "execution_count": 94,
      "outputs": [
        {
          "output_type": "display_data",
          "data": {
            "text/plain": [
              "<Figure size 432x288 with 1 Axes>"
            ],
            "image/png": "[encoded data removed]"
          },
          "metadata": {
            "needs_background": "light"
          }
        }
      ]
    },
    {
      "cell_type": "code",
      "source": [
        "import numpy as np\n",
        "X = np.array(df['pm10'])\n",
        "y = np.array(df['max'])\n",
        "\n",
        "print(f'X : {X}')\n",
        "print(f'y : {y}')"
      ],
      "metadata": {
        "colab": {
          "base_uri": "https://localhost:8080/"
        },
        "id": "pMmaPQFYACtA",
        "outputId": "88cd3786-66d4-411c-dd71-31d35e047dbf"
      },
      "execution_count": 95,
      "outputs": [
        {
          "output_type": "stream",
          "name": "stdout",
          "text": [
            "X : [30 27 39 34 35 46 37 41 52 24 34 33 34 37 61 47 30 40 41 44 63 49 38 44\n",
            " 47 45]\n",
            "y : [32 29 39 38 35 46 37 41 52 25 34 36 34 37 61 47 36 40 41 44 63 49 38 44\n",
            " 47 45]\n"
          ]
        }
      ]
    },
    {
      "cell_type": "code",
      "source": [
        "X = X.reshape(-1, 1)\n",
        "X.shape"
      ],
      "metadata": {
        "colab": {
          "base_uri": "https://localhost:8080/"
        },
        "id": "881LOPXRA77P",
        "outputId": "2f218782-5606-4106-c45e-50252ec57e82"
      },
      "execution_count": 96,
      "outputs": [
        {
          "output_type": "execute_result",
          "data": {
            "text/plain": [
              "(26, 1)"
            ]
          },
          "metadata": {},
          "execution_count": 96
        }
      ]
    },
    {
      "cell_type": "code",
      "source": [
        "from sklearn.linear_model import LinearRegression\n",
        "\n",
        "model = LinearRegression()\n",
        "model.fit(X, y)"
      ],
      "metadata": {
        "colab": {
          "base_uri": "https://localhost:8080/"
        },
        "id": "-NS-BuJsBBq0",
        "outputId": "53f35613-5c52-46e6-a02a-3950bab47a45"
      },
      "execution_count": 97,
      "outputs": [
        {
          "output_type": "execute_result",
          "data": {
            "text/plain": [
              "LinearRegression()"
            ]
          },
          "metadata": {},
          "execution_count": 97
        }
      ]
    },
    {
      "cell_type": "code",
      "source": [
        "X_vis = np. array([0, 10000]).reshape(-1, 1)\n",
        "y_vis = model.predict(X_vis)"
      ],
      "metadata": {
        "id": "LSJyxt4WBGmO"
      },
      "execution_count": 98,
      "outputs": []
    },
    {
      "cell_type": "code",
      "source": [
        "plt.scatter(X, y)\n",
        "plt.plot(X_vis, y_vis,'-r')  \n",
        "plt.xlabel('pm10')\n",
        "plt.ylabel('max')\n",
        "plt.xlim(20, 70)\n",
        "plt.ylim(20, 70)\n",
        "plt.grid(True)\n",
        "plt.show()"
      ],
      "metadata": {
        "colab": {
          "base_uri": "https://localhost:8080/",
          "height": 283
        },
        "id": "vrki08ysBLKr",
        "outputId": "2a218d65-48b6-4c87-c684-51da2c6a909a"
      },
      "execution_count": 105,
      "outputs": [
        {
          "output_type": "display_data",
          "data": {
            "text/plain": [
              "<Figure size 432x288 with 1 Axes>"
            ],
            "image/png": "[encoded data removed]"
          },
          "metadata": {
            "needs_background": "light"
          }
        }
      ]
    },
    {
      "cell_type": "code",
      "source": [
        "print(f'intercept : {model.intercept_}')\n",
        "print(f'slope : {model.coef_}')"
      ],
      "metadata": {
        "colab": {
          "base_uri": "https://localhost:8080/"
        },
        "id": "ZXuoqVIaiOpI",
        "outputId": "2fd76647-ae85-4562-cf19-23b6a26c8428"
      },
      "execution_count": 107,
      "outputs": [
        {
          "output_type": "stream",
          "name": "stdout",
          "text": [
            "intercept : 3.89833808497324\n",
            "slope : [0.92076351]\n"
          ]
        }
      ]
    },
    {
      "cell_type": "code",
      "source": [
        "PM10 = np.array([31, 34, 39, 45, 48]).reshape(-1, 1)\n",
        "PM10"
      ],
      "metadata": {
        "colab": {
          "base_uri": "https://localhost:8080/"
        },
        "id": "CTiGDLGniTeh",
        "outputId": "a2b01e97-d497-42c4-978d-b4963674e086"
      },
      "execution_count": 109,
      "outputs": [
        {
          "output_type": "execute_result",
          "data": {
            "text/plain": [
              "array([[31],\n",
              "       [34],\n",
              "       [39],\n",
              "       [45],\n",
              "       [48]])"
            ]
          },
          "metadata": {},
          "execution_count": 109
        }
      ]
    },
    {
      "cell_type": "code",
      "source": [
        "prediksi_indeks = model.predict(PM10)\n",
        "prediksi_indeks"
      ],
      "metadata": {
        "colab": {
          "base_uri": "https://localhost:8080/"
        },
        "id": "QBJkmcXliqSH",
        "outputId": "59fcc7e6-9a72-4809-aa07-4eea737cd8eb"
      },
      "execution_count": 112,
      "outputs": [
        {
          "output_type": "execute_result",
          "data": {
            "text/plain": [
              "array([32.44200681, 35.20429734, 39.80811487, 45.33269592, 48.09498644])"
            ]
          },
          "metadata": {},
          "execution_count": 112
        }
      ]
    },
    {
      "cell_type": "code",
      "source": [
        "for Pendidik, index in zip(PM10, prediksi_indeks):\n",
        "  print(f'jumlah pm10 : {Pendidik} prediksi indexs : {index}')"
      ],
      "metadata": {
        "colab": {
          "base_uri": "https://localhost:8080/"
        },
        "id": "kNMv6PlRixBp",
        "outputId": "55ea5422-325c-4bb4-c2fb-d123966074f0"
      },
      "execution_count": 115,
      "outputs": [
        {
          "output_type": "stream",
          "name": "stdout",
          "text": [
            "jumlah pm10 : [31] prediksi indexs : 32.44200681454697\n",
            "jumlah pm10 : [34] prediksi indexs : 35.20429733676379\n",
            "jumlah pm10 : [39] prediksi indexs : 39.80811487379181\n",
            "jumlah pm10 : [45] prediksi indexs : 45.33269591822543\n",
            "jumlah pm10 : [48] prediksi indexs : 48.09498644044225\n"
          ]
        }
      ]
    },
    {
      "cell_type": "code",
      "source": [
        "print(\"pm10 : \")\n",
        "df['pm10'].sum()"
      ],
      "metadata": {
        "colab": {
          "base_uri": "https://localhost:8080/"
        },
        "id": "69EKUunHi11H",
        "outputId": "b5abfb65-4a3d-400c-932d-b9f73076be12"
      },
      "execution_count": 118,
      "outputs": [
        {
          "output_type": "stream",
          "name": "stdout",
          "text": [
            "pm10 : \n"
          ]
        },
        {
          "output_type": "execute_result",
          "data": {
            "text/plain": [
              "1052"
            ]
          },
          "metadata": {},
          "execution_count": 118
        }
      ]
    },
    {
      "cell_type": "code",
      "source": [
        "print(\"max : \")\n",
        "df['max'].sum()"
      ],
      "metadata": {
        "colab": {
          "base_uri": "https://localhost:8080/"
        },
        "id": "sg15NTUWjQM7",
        "outputId": "e281ec7d-4402-4921-d102-9ed5e477989a"
      },
      "execution_count": 120,
      "outputs": [
        {
          "output_type": "stream",
          "name": "stdout",
          "text": [
            "max : \n"
          ]
        },
        {
          "output_type": "execute_result",
          "data": {
            "text/plain": [
              "1070"
            ]
          },
          "metadata": {},
          "execution_count": 120
        }
      ]
    },
    {
      "cell_type": "code",
      "source": [
        "print()\n",
        "fig = plt.figure()\n",
        "ax = fig.add_axes([0,0,1,1])\n",
        "eskul = ['Jpm10','max']\n",
        "pengikut = [1052, 1070]\n",
        "c = ['red', 'blue']\n",
        "plt.title(\"Jumlah lingkungan hidup\")\n",
        "plt.bar(eskul, pengikut, color = c)\n",
        "plt.show()\n",
        "print()\n",
        "fig = plt.figure()\n",
        "ax = fig.add_axes([0,0,1,1])\n",
        "ax.axis('equal')\n",
        "jurusan = ['Jpm10','max']\n",
        "siswa =[1052, 1070]\n",
        "ax.pie(siswa,labels=jurusan,autopct= '%1.2f%%')\n",
        "plt.title(\"Jumlah lingkungan hidup\")\n",
        "plt.show()"
      ],
      "metadata": {
        "colab": {
          "base_uri": "https://localhost:8080/",
          "height": 705
        },
        "id": "EdIsSZzqjae2",
        "outputId": "08d37847-1c6f-4432-be6a-c48b07f2a7e2"
      },
      "execution_count": 123,
      "outputs": [
        {
          "output_type": "stream",
          "name": "stdout",
          "text": [
            "\n"
          ]
        },
        {
          "output_type": "display_data",
          "data": {
            "text/plain": [
              "<Figure size 432x288 with 1 Axes>"
            ],
            "image/png": "[encoded data removed]"
          },
          "metadata": {
            "needs_background": "light"
          }
        },
        {
          "output_type": "stream",
          "name": "stdout",
          "text": [
            "\n"
          ]
        },
        {
          "output_type": "display_data",
          "data": {
            "text/plain": [
              "<Figure size 432x288 with 1 Axes>"
            ],
            "image/png": "[encoded data removed]"
          },
          "metadata": {}
        }
      ]
    }
  ]
}