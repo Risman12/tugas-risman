{
  "nbformat": 4,
  "nbformat_minor": 0,
  "metadata": {
    "colab": {
      "provenance": []
    },
    "kernelspec": {
      "name": "python3",
      "display_name": "Python 3"
    },
    "language_info": {
      "name": "python"
    }
  },
  "cells": [
    {
      "cell_type": "code",
      "execution_count": null,
      "metadata": {
        "colab": {
          "base_uri": "https://localhost:8080/"
        },
        "id": "TZGGbHv_mEs_",
        "outputId": "84996884-8a83-4103-8287-db0fafde7961"
      },
      "outputs": [
        {
          "output_type": "stream",
          "name": "stdout",
          "text": [
            "Mounted at /content/drive\n"
          ]
        }
      ],
      "source": [
        "import pandas as pd\n",
        "from google.colab import drive\n",
        "drive.mount('/content/drive')"
      ]
    },
    {
      "cell_type": "code",
      "source": [
        "from google.colab import drive\n",
        "drive.mount('/content/drive')"
      ],
      "metadata": {
        "id": "j5gWH75lcEJW",
        "colab": {
          "base_uri": "https://localhost:8080/"
        },
        "outputId": "a2a202b5-f163-442b-9889-cf65b10526a4"
      },
      "execution_count": null,
      "outputs": [
        {
          "output_type": "stream",
          "name": "stdout",
          "text": [
            "Drive already mounted at /content/drive; to attempt to forcibly remount, call drive.mount(\"/content/drive\", force_remount=True).\n"
          ]
        }
      ]
    },
    {
      "cell_type": "code",
      "source": [
        "path ='/content/drive/MyDrive/CSV/data5.csv'\n",
        "df =pd.read_csv(path)\n",
        "\n",
        "df.describe()"
      ],
      "metadata": {
        "colab": {
          "base_uri": "https://localhost:8080/",
          "height": 300
        },
        "id": "Rm_T8MhBnPGU",
        "outputId": "2dce729f-e668-4530-8378-b20735de62f7"
      },
      "execution_count": null,
      "outputs": [
        {
          "output_type": "execute_result",
          "data": {
            "text/plain": [
              "             No          NPSN  Peserta Didik     Rombel       Guru    Pegawai  \\\n",
              "count  23.00000  2.300000e+01      23.000000  23.000000  23.000000  23.000000   \n",
              "mean   12.00000  2.239733e+07     357.260870  12.260870  16.782609   2.217391   \n",
              "std     6.78233  1.037086e+07     306.388378   8.125255  11.123098   2.194135   \n",
              "min     1.00000  2.021954e+07       0.000000   2.000000   0.000000   0.000000   \n",
              "25%     6.50000  2.021960e+07     131.500000   6.000000   8.500000   1.000000   \n",
              "50%    12.00000  2.024503e+07     301.000000  11.000000  13.000000   1.000000   \n",
              "75%    17.50000  2.024510e+07     462.000000  16.000000  24.000000   3.500000   \n",
              "max    23.00000  6.997173e+07    1332.000000  37.000000  47.000000   8.000000   \n",
              "\n",
              "        R. Kelas     R. Lab  R. Perpus  \n",
              "count  23.000000  23.000000  23.000000  \n",
              "mean   11.739130   0.608696   0.782609  \n",
              "std     8.692826   0.838783   0.421741  \n",
              "min     1.000000   0.000000   0.000000  \n",
              "25%     6.000000   0.000000   1.000000  \n",
              "50%     9.000000   0.000000   1.000000  \n",
              "75%    15.000000   1.000000   1.000000  \n",
              "max    39.000000   3.000000   1.000000  "
            ],
            "text/html": [
              "\n",
              "  <div id=\"df-e62aed15-d812-48ed-80c6-9799f84974cb\">\n",
              "    <div class=\"colab-df-container\">\n",
              "      <div>\n",
              "<style scoped>\n",
              "    .dataframe tbody tr th:only-of-type {\n",
              "        vertical-align: middle;\n",
              "    }\n",
              "\n",
              "    .dataframe tbody tr th {\n",
              "        vertical-align: top;\n",
              "    }\n",
              "\n",
              "    .dataframe thead th {\n",
              "        text-align: right;\n",
              "    }\n",
              "</style>\n",
              "<table border=\"1\" class=\"dataframe\">\n",
              "  <thead>\n",
              "    <tr style=\"text-align: right;\">\n",
              "      <th></th>\n",
              "      <th>No</th>\n",
              "      <th>NPSN</th>\n",
              "      <th>Peserta Didik</th>\n",
              "      <th>Rombel</th>\n",
              "      <th>Guru</th>\n",
              "      <th>Pegawai</th>\n",
              "      <th>R. Kelas</th>\n",
              "      <th>R. Lab</th>\n",
              "      <th>R. Perpus</th>\n",
              "    </tr>\n",
              "  </thead>\n",
              "  <tbody>\n",
              "    <tr>\n",
              "      <th>count</th>\n",
              "      <td>23.00000</td>\n",
              "      <td>2.300000e+01</td>\n",
              "      <td>23.000000</td>\n",
              "      <td>23.000000</td>\n",
              "      <td>23.000000</td>\n",
              "      <td>23.000000</td>\n",
              "      <td>23.000000</td>\n",
              "      <td>23.000000</td>\n",
              "      <td>23.000000</td>\n",
              "    </tr>\n",
              "    <tr>\n",
              "      <th>mean</th>\n",
              "      <td>12.00000</td>\n",
              "      <td>2.239733e+07</td>\n",
              "      <td>357.260870</td>\n",
              "      <td>12.260870</td>\n",
              "      <td>16.782609</td>\n",
              "      <td>2.217391</td>\n",
              "      <td>11.739130</td>\n",
              "      <td>0.608696</td>\n",
              "      <td>0.782609</td>\n",
              "    </tr>\n",
              "    <tr>\n",
              "      <th>std</th>\n",
              "      <td>6.78233</td>\n",
              "      <td>1.037086e+07</td>\n",
              "      <td>306.388378</td>\n",
              "      <td>8.125255</td>\n",
              "      <td>11.123098</td>\n",
              "      <td>2.194135</td>\n",
              "      <td>8.692826</td>\n",
              "      <td>0.838783</td>\n",
              "      <td>0.421741</td>\n",
              "    </tr>\n",
              "    <tr>\n",
              "      <th>min</th>\n",
              "      <td>1.00000</td>\n",
              "      <td>2.021954e+07</td>\n",
              "      <td>0.000000</td>\n",
              "      <td>2.000000</td>\n",
              "      <td>0.000000</td>\n",
              "      <td>0.000000</td>\n",
              "      <td>1.000000</td>\n",
              "      <td>0.000000</td>\n",
              "      <td>0.000000</td>\n",
              "    </tr>\n",
              "    <tr>\n",
              "      <th>25%</th>\n",
              "      <td>6.50000</td>\n",
              "      <td>2.021960e+07</td>\n",
              "      <td>131.500000</td>\n",
              "      <td>6.000000</td>\n",
              "      <td>8.500000</td>\n",
              "      <td>1.000000</td>\n",
              "      <td>6.000000</td>\n",
              "      <td>0.000000</td>\n",
              "      <td>1.000000</td>\n",
              "    </tr>\n",
              "    <tr>\n",
              "      <th>50%</th>\n",
              "      <td>12.00000</td>\n",
              "      <td>2.024503e+07</td>\n",
              "      <td>301.000000</td>\n",
              "      <td>11.000000</td>\n",
              "      <td>13.000000</td>\n",
              "      <td>1.000000</td>\n",
              "      <td>9.000000</td>\n",
              "      <td>0.000000</td>\n",
              "      <td>1.000000</td>\n",
              "    </tr>\n",
              "    <tr>\n",
              "      <th>75%</th>\n",
              "      <td>17.50000</td>\n",
              "      <td>2.024510e+07</td>\n",
              "      <td>462.000000</td>\n",
              "      <td>16.000000</td>\n",
              "      <td>24.000000</td>\n",
              "      <td>3.500000</td>\n",
              "      <td>15.000000</td>\n",
              "      <td>1.000000</td>\n",
              "      <td>1.000000</td>\n",
              "    </tr>\n",
              "    <tr>\n",
              "      <th>max</th>\n",
              "      <td>23.00000</td>\n",
              "      <td>6.997173e+07</td>\n",
              "      <td>1332.000000</td>\n",
              "      <td>37.000000</td>\n",
              "      <td>47.000000</td>\n",
              "      <td>8.000000</td>\n",
              "      <td>39.000000</td>\n",
              "      <td>3.000000</td>\n",
              "      <td>1.000000</td>\n",
              "    </tr>\n",
              "  </tbody>\n",
              "</table>\n",
              "</div>\n",
              "      <button class=\"colab-df-convert\" onclick=\"convertToInteractive('df-e62aed15-d812-48ed-80c6-9799f84974cb')\"\n",
              "              title=\"Convert this dataframe to an interactive table.\"\n",
              "              style=\"display:none;\">\n",
              "        \n",
              "  <svg xmlns=\"http://www.w3.org/2000/svg\" height=\"24px\"viewBox=\"0 0 24 24\"\n",
              "       width=\"24px\">\n",
              "    <path d=\"M0 0h24v24H0V0z\" fill=\"none\"/>\n",
              "    <path d=\"M18.56 5.44l.94 2.06.94-2.06 2.06-.94-2.06-.94-.94-2.06-.94 2.06-2.06.94zm-11 1L8.5 8.5l.94-2.06 2.06-.94-2.06-.94L8.5 2.5l-.94 2.06-2.06.94zm10 10l.94 2.06.94-2.06 2.06-.94-2.06-.94-.94-2.06-.94 2.06-2.06.94z\"/><path d=\"M17.41 7.96l-1.37-1.37c-.4-.4-.92-.59-1.43-.59-.52 0-1.04.2-1.43.59L10.3 9.45l-7.72 7.72c-.78.78-.78 2.05 0 2.83L4 21.41c.39.39.9.59 1.41.59.51 0 1.02-.2 1.41-.59l7.78-7.78 2.81-2.81c.8-.78.8-2.07 0-2.86zM5.41 20L4 18.59l7.72-7.72 1.47 1.35L5.41 20z\"/>\n",
              "  </svg>\n",
              "      </button>\n",
              "      \n",
              "  <style>\n",
              "    .colab-df-container {\n",
              "      display:flex;\n",
              "      flex-wrap:wrap;\n",
              "      gap: 12px;\n",
              "    }\n",
              "\n",
              "    .colab-df-convert {\n",
              "      background-color: #E8F0FE;\n",
              "      border: none;\n",
              "      border-radius: 50%;\n",
              "      cursor: pointer;\n",
              "      display: none;\n",
              "      fill: #1967D2;\n",
              "      height: 32px;\n",
              "      padding: 0 0 0 0;\n",
              "      width: 32px;\n",
              "    }\n",
              "\n",
              "    .colab-df-convert:hover {\n",
              "      background-color: #E2EBFA;\n",
              "      box-shadow: 0px 1px 2px rgba(60, 64, 67, 0.3), 0px 1px 3px 1px rgba(60, 64, 67, 0.15);\n",
              "      fill: #174EA6;\n",
              "    }\n",
              "\n",
              "    [theme=dark] .colab-df-convert {\n",
              "      background-color: #3B4455;\n",
              "      fill: #D2E3FC;\n",
              "    }\n",
              "\n",
              "    [theme=dark] .colab-df-convert:hover {\n",
              "      background-color: #434B5C;\n",
              "      box-shadow: 0px 1px 3px 1px rgba(0, 0, 0, 0.15);\n",
              "      filter: drop-shadow(0px 1px 2px rgba(0, 0, 0, 0.3));\n",
              "      fill: #FFFFFF;\n",
              "    }\n",
              "  </style>\n",
              "\n",
              "      <script>\n",
              "        const buttonEl =\n",
              "          document.querySelector('#df-e62aed15-d812-48ed-80c6-9799f84974cb button.colab-df-convert');\n",
              "        buttonEl.style.display =\n",
              "          google.colab.kernel.accessAllowed ? 'block' : 'none';\n",
              "\n",
              "        async function convertToInteractive(key) {\n",
              "          const element = document.querySelector('#df-e62aed15-d812-48ed-80c6-9799f84974cb');\n",
              "          const dataTable =\n",
              "            await google.colab.kernel.invokeFunction('convertToInteractive',\n",
              "                                                     [key], {});\n",
              "          if (!dataTable) return;\n",
              "\n",
              "          const docLinkHtml = 'Like what you see? Visit the ' +\n",
              "            '<a target=\"_blank\" href=https://colab.research.google.com/notebooks/data_table.ipynb>data table notebook</a>'\n",
              "            + ' to learn more about interactive tables.';\n",
              "          element.innerHTML = '';\n",
              "          dataTable['output_type'] = 'display_data';\n",
              "          await google.colab.output.renderOutput(dataTable, element);\n",
              "          const docLink = document.createElement('div');\n",
              "          docLink.innerHTML = docLinkHtml;\n",
              "          element.appendChild(docLink);\n",
              "        }\n",
              "      </script>\n",
              "    </div>\n",
              "  </div>\n",
              "  "
            ]
          },
          "metadata": {},
          "execution_count": 5
        }
      ]
    },
    {
      "cell_type": "code",
      "source": [
        "df"
      ],
      "metadata": {
        "colab": {
          "base_uri": "https://localhost:8080/",
          "height": 771
        },
        "id": "IP_GJ7D9nuTG",
        "outputId": "62836dbd-72b2-4230-cc20-a76393ac3854"
      },
      "execution_count": null,
      "outputs": [
        {
          "output_type": "execute_result",
          "data": {
            "text/plain": [
              "    No                         Nama Sekolah      NPSN  BP  Status  \\\n",
              "0    1         SDN 066 HALIMUN KOTA BANDUNG  20245031  SD  Negeri   \n",
              "1    2           SDN 067 NILEM KOTA BANDUNG  20245050  SD  Negeri   \n",
              "2    3        SDN 115 TURANGGA KOTA BANDUNG  20245097  SD  Negeri   \n",
              "3    4         SDN 119 CIJAGRA KOTA BANDUNG  20245023  SD  Negeri   \n",
              "4    5        SDN 135 TURANGGA KOTA BANDUNG  20245098  SD  Negeri   \n",
              "5    6   SDN 163 BUAHBATU BARU KOTA BANDUNG  20245022  SD  Negeri   \n",
              "6    7  SDN 164 KARANGPAWULANG KOTA BANDUNG  20245036  SD  Negeri   \n",
              "7    8       SDN 202 SURYALAYA KOTA BANDUNG  20245094  SD  Negeri   \n",
              "8    9   SDN 206 PUTRACO INDAH KOTA BANDUNG  20245077  SD  Negeri   \n",
              "9   10  SDN 235 LENGKONG KECIL KOTA BANDUNG  20245045  SD  Negeri   \n",
              "10  11          SDN 257 PELITA KOTA BANDUNG  20245257  SD  Negeri   \n",
              "11  12            SD BANDUNG ISLAMIC SCHOOL  69971730  SD  Swasta   \n",
              "12  13                               SD BPI  20219536  SD  Swasta   \n",
              "13  14                        SD BUDI ISTRI  20219617  SD  Swasta   \n",
              "14  15                           SD CIPAERA  20219599  SD  Swasta   \n",
              "15  16                       SD GAGAS CERIA  20247207  SD  Swasta   \n",
              "16  17                               SD IRK  20219594  SD  Swasta   \n",
              "17  18                       SD KARTIKA X-1  20219574  SD  Swasta   \n",
              "18  19                       SD KARTIKA X-2  20219573  SD  Swasta   \n",
              "19  20              SD KEMALA BHAYANGKARI 1  20219581  SD  Swasta   \n",
              "20  21             SD KRISTEN 5 BPK PENABUR  20219587  SD  Swasta   \n",
              "21  22                    SD MUHAMMADIYAH 1  20219854  SD  Swasta   \n",
              "22  23                    SD YAYASAN BERIBU  20247256  SD  Swasta   \n",
              "\n",
              "    Peserta Didik  Rombel  Guru  Pegawai  R. Kelas  R. Lab  R. Perpus  \n",
              "0             777      25    30        4        26       1          1  \n",
              "1             493      18    25        1        18       1          1  \n",
              "2             252       7     8        1         7       0          0  \n",
              "3             431      13    17        4        11       0          0  \n",
              "4             500      15    17        2         9       0          1  \n",
              "5             397      12    18        3        10       1          1  \n",
              "6            1332      37    47        6        39       2          1  \n",
              "7             251       7     9        1         7       0          1  \n",
              "8             130       6     8        1         6       0          1  \n",
              "9             312      11    13        1         9       0          1  \n",
              "10            836      21    27        6        19       1          1  \n",
              "11              0       2     0        0         1       0          0  \n",
              "12            619      22    34        4        23       1          1  \n",
              "13            133       6     9        1         5       0          1  \n",
              "14            102       6     8        1         3       0          0  \n",
              "15            327      12    31        8        12       3          1  \n",
              "16            115       6     9        0         6       0          0  \n",
              "17            301      10    12        2        10       0          1  \n",
              "18            175       6     8        1         6       0          1  \n",
              "19            111       6     8        1         7       1          1  \n",
              "20            370      17    23        3        18       2          1  \n",
              "21             46       6    12        0         6       0          1  \n",
              "22            207      11    13        0        12       1          1  "
            ],
            "text/html": [
              "\n",
              "  <div id=\"df-f0bb1f5e-56ea-4ee5-85b5-1588e5702552\">\n",
              "    <div class=\"colab-df-container\">\n",
              "      <div>\n",
              "<style scoped>\n",
              "    .dataframe tbody tr th:only-of-type {\n",
              "        vertical-align: middle;\n",
              "    }\n",
              "\n",
              "    .dataframe tbody tr th {\n",
              "        vertical-align: top;\n",
              "    }\n",
              "\n",
              "    .dataframe thead th {\n",
              "        text-align: right;\n",
              "    }\n",
              "</style>\n",
              "<table border=\"1\" class=\"dataframe\">\n",
              "  <thead>\n",
              "    <tr style=\"text-align: right;\">\n",
              "      <th></th>\n",
              "      <th>No</th>\n",
              "      <th>Nama Sekolah</th>\n",
              "      <th>NPSN</th>\n",
              "      <th>BP</th>\n",
              "      <th>Status</th>\n",
              "      <th>Peserta Didik</th>\n",
              "      <th>Rombel</th>\n",
              "      <th>Guru</th>\n",
              "      <th>Pegawai</th>\n",
              "      <th>R. Kelas</th>\n",
              "      <th>R. Lab</th>\n",
              "      <th>R. Perpus</th>\n",
              "    </tr>\n",
              "  </thead>\n",
              "  <tbody>\n",
              "    <tr>\n",
              "      <th>0</th>\n",
              "      <td>1</td>\n",
              "      <td>SDN 066 HALIMUN KOTA BANDUNG</td>\n",
              "      <td>20245031</td>\n",
              "      <td>SD</td>\n",
              "      <td>Negeri</td>\n",
              "      <td>777</td>\n",
              "      <td>25</td>\n",
              "      <td>30</td>\n",
              "      <td>4</td>\n",
              "      <td>26</td>\n",
              "      <td>1</td>\n",
              "      <td>1</td>\n",
              "    </tr>\n",
              "    <tr>\n",
              "      <th>1</th>\n",
              "      <td>2</td>\n",
              "      <td>SDN 067 NILEM KOTA BANDUNG</td>\n",
              "      <td>20245050</td>\n",
              "      <td>SD</td>\n",
              "      <td>Negeri</td>\n",
              "      <td>493</td>\n",
              "      <td>18</td>\n",
              "      <td>25</td>\n",
              "      <td>1</td>\n",
              "      <td>18</td>\n",
              "      <td>1</td>\n",
              "      <td>1</td>\n",
              "    </tr>\n",
              "    <tr>\n",
              "      <th>2</th>\n",
              "      <td>3</td>\n",
              "      <td>SDN 115 TURANGGA KOTA BANDUNG</td>\n",
              "      <td>20245097</td>\n",
              "      <td>SD</td>\n",
              "      <td>Negeri</td>\n",
              "      <td>252</td>\n",
              "      <td>7</td>\n",
              "      <td>8</td>\n",
              "      <td>1</td>\n",
              "      <td>7</td>\n",
              "      <td>0</td>\n",
              "      <td>0</td>\n",
              "    </tr>\n",
              "    <tr>\n",
              "      <th>3</th>\n",
              "      <td>4</td>\n",
              "      <td>SDN 119 CIJAGRA KOTA BANDUNG</td>\n",
              "      <td>20245023</td>\n",
              "      <td>SD</td>\n",
              "      <td>Negeri</td>\n",
              "      <td>431</td>\n",
              "      <td>13</td>\n",
              "      <td>17</td>\n",
              "      <td>4</td>\n",
              "      <td>11</td>\n",
              "      <td>0</td>\n",
              "      <td>0</td>\n",
              "    </tr>\n",
              "    <tr>\n",
              "      <th>4</th>\n",
              "      <td>5</td>\n",
              "      <td>SDN 135 TURANGGA KOTA BANDUNG</td>\n",
              "      <td>20245098</td>\n",
              "      <td>SD</td>\n",
              "      <td>Negeri</td>\n",
              "      <td>500</td>\n",
              "      <td>15</td>\n",
              "      <td>17</td>\n",
              "      <td>2</td>\n",
              "      <td>9</td>\n",
              "      <td>0</td>\n",
              "      <td>1</td>\n",
              "    </tr>\n",
              "    <tr>\n",
              "      <th>5</th>\n",
              "      <td>6</td>\n",
              "      <td>SDN 163 BUAHBATU BARU KOTA BANDUNG</td>\n",
              "      <td>20245022</td>\n",
              "      <td>SD</td>\n",
              "      <td>Negeri</td>\n",
              "      <td>397</td>\n",
              "      <td>12</td>\n",
              "      <td>18</td>\n",
              "      <td>3</td>\n",
              "      <td>10</td>\n",
              "      <td>1</td>\n",
              "      <td>1</td>\n",
              "    </tr>\n",
              "    <tr>\n",
              "      <th>6</th>\n",
              "      <td>7</td>\n",
              "      <td>SDN 164 KARANGPAWULANG KOTA BANDUNG</td>\n",
              "      <td>20245036</td>\n",
              "      <td>SD</td>\n",
              "      <td>Negeri</td>\n",
              "      <td>1332</td>\n",
              "      <td>37</td>\n",
              "      <td>47</td>\n",
              "      <td>6</td>\n",
              "      <td>39</td>\n",
              "      <td>2</td>\n",
              "      <td>1</td>\n",
              "    </tr>\n",
              "    <tr>\n",
              "      <th>7</th>\n",
              "      <td>8</td>\n",
              "      <td>SDN 202 SURYALAYA KOTA BANDUNG</td>\n",
              "      <td>20245094</td>\n",
              "      <td>SD</td>\n",
              "      <td>Negeri</td>\n",
              "      <td>251</td>\n",
              "      <td>7</td>\n",
              "      <td>9</td>\n",
              "      <td>1</td>\n",
              "      <td>7</td>\n",
              "      <td>0</td>\n",
              "      <td>1</td>\n",
              "    </tr>\n",
              "    <tr>\n",
              "      <th>8</th>\n",
              "      <td>9</td>\n",
              "      <td>SDN 206 PUTRACO INDAH KOTA BANDUNG</td>\n",
              "      <td>20245077</td>\n",
              "      <td>SD</td>\n",
              "      <td>Negeri</td>\n",
              "      <td>130</td>\n",
              "      <td>6</td>\n",
              "      <td>8</td>\n",
              "      <td>1</td>\n",
              "      <td>6</td>\n",
              "      <td>0</td>\n",
              "      <td>1</td>\n",
              "    </tr>\n",
              "    <tr>\n",
              "      <th>9</th>\n",
              "      <td>10</td>\n",
              "      <td>SDN 235 LENGKONG KECIL KOTA BANDUNG</td>\n",
              "      <td>20245045</td>\n",
              "      <td>SD</td>\n",
              "      <td>Negeri</td>\n",
              "      <td>312</td>\n",
              "      <td>11</td>\n",
              "      <td>13</td>\n",
              "      <td>1</td>\n",
              "      <td>9</td>\n",
              "      <td>0</td>\n",
              "      <td>1</td>\n",
              "    </tr>\n",
              "    <tr>\n",
              "      <th>10</th>\n",
              "      <td>11</td>\n",
              "      <td>SDN 257 PELITA KOTA BANDUNG</td>\n",
              "      <td>20245257</td>\n",
              "      <td>SD</td>\n",
              "      <td>Negeri</td>\n",
              "      <td>836</td>\n",
              "      <td>21</td>\n",
              "      <td>27</td>\n",
              "      <td>6</td>\n",
              "      <td>19</td>\n",
              "      <td>1</td>\n",
              "      <td>1</td>\n",
              "    </tr>\n",
              "    <tr>\n",
              "      <th>11</th>\n",
              "      <td>12</td>\n",
              "      <td>SD BANDUNG ISLAMIC SCHOOL</td>\n",
              "      <td>69971730</td>\n",
              "      <td>SD</td>\n",
              "      <td>Swasta</td>\n",
              "      <td>0</td>\n",
              "      <td>2</td>\n",
              "      <td>0</td>\n",
              "      <td>0</td>\n",
              "      <td>1</td>\n",
              "      <td>0</td>\n",
              "      <td>0</td>\n",
              "    </tr>\n",
              "    <tr>\n",
              "      <th>12</th>\n",
              "      <td>13</td>\n",
              "      <td>SD BPI</td>\n",
              "      <td>20219536</td>\n",
              "      <td>SD</td>\n",
              "      <td>Swasta</td>\n",
              "      <td>619</td>\n",
              "      <td>22</td>\n",
              "      <td>34</td>\n",
              "      <td>4</td>\n",
              "      <td>23</td>\n",
              "      <td>1</td>\n",
              "      <td>1</td>\n",
              "    </tr>\n",
              "    <tr>\n",
              "      <th>13</th>\n",
              "      <td>14</td>\n",
              "      <td>SD BUDI ISTRI</td>\n",
              "      <td>20219617</td>\n",
              "      <td>SD</td>\n",
              "      <td>Swasta</td>\n",
              "      <td>133</td>\n",
              "      <td>6</td>\n",
              "      <td>9</td>\n",
              "      <td>1</td>\n",
              "      <td>5</td>\n",
              "      <td>0</td>\n",
              "      <td>1</td>\n",
              "    </tr>\n",
              "    <tr>\n",
              "      <th>14</th>\n",
              "      <td>15</td>\n",
              "      <td>SD CIPAERA</td>\n",
              "      <td>20219599</td>\n",
              "      <td>SD</td>\n",
              "      <td>Swasta</td>\n",
              "      <td>102</td>\n",
              "      <td>6</td>\n",
              "      <td>8</td>\n",
              "      <td>1</td>\n",
              "      <td>3</td>\n",
              "      <td>0</td>\n",
              "      <td>0</td>\n",
              "    </tr>\n",
              "    <tr>\n",
              "      <th>15</th>\n",
              "      <td>16</td>\n",
              "      <td>SD GAGAS CERIA</td>\n",
              "      <td>20247207</td>\n",
              "      <td>SD</td>\n",
              "      <td>Swasta</td>\n",
              "      <td>327</td>\n",
              "      <td>12</td>\n",
              "      <td>31</td>\n",
              "      <td>8</td>\n",
              "      <td>12</td>\n",
              "      <td>3</td>\n",
              "      <td>1</td>\n",
              "    </tr>\n",
              "    <tr>\n",
              "      <th>16</th>\n",
              "      <td>17</td>\n",
              "      <td>SD IRK</td>\n",
              "      <td>20219594</td>\n",
              "      <td>SD</td>\n",
              "      <td>Swasta</td>\n",
              "      <td>115</td>\n",
              "      <td>6</td>\n",
              "      <td>9</td>\n",
              "      <td>0</td>\n",
              "      <td>6</td>\n",
              "      <td>0</td>\n",
              "      <td>0</td>\n",
              "    </tr>\n",
              "    <tr>\n",
              "      <th>17</th>\n",
              "      <td>18</td>\n",
              "      <td>SD KARTIKA X-1</td>\n",
              "      <td>20219574</td>\n",
              "      <td>SD</td>\n",
              "      <td>Swasta</td>\n",
              "      <td>301</td>\n",
              "      <td>10</td>\n",
              "      <td>12</td>\n",
              "      <td>2</td>\n",
              "      <td>10</td>\n",
              "      <td>0</td>\n",
              "      <td>1</td>\n",
              "    </tr>\n",
              "    <tr>\n",
              "      <th>18</th>\n",
              "      <td>19</td>\n",
              "      <td>SD KARTIKA X-2</td>\n",
              "      <td>20219573</td>\n",
              "      <td>SD</td>\n",
              "      <td>Swasta</td>\n",
              "      <td>175</td>\n",
              "      <td>6</td>\n",
              "      <td>8</td>\n",
              "      <td>1</td>\n",
              "      <td>6</td>\n",
              "      <td>0</td>\n",
              "      <td>1</td>\n",
              "    </tr>\n",
              "    <tr>\n",
              "      <th>19</th>\n",
              "      <td>20</td>\n",
              "      <td>SD KEMALA BHAYANGKARI 1</td>\n",
              "      <td>20219581</td>\n",
              "      <td>SD</td>\n",
              "      <td>Swasta</td>\n",
              "      <td>111</td>\n",
              "      <td>6</td>\n",
              "      <td>8</td>\n",
              "      <td>1</td>\n",
              "      <td>7</td>\n",
              "      <td>1</td>\n",
              "      <td>1</td>\n",
              "    </tr>\n",
              "    <tr>\n",
              "      <th>20</th>\n",
              "      <td>21</td>\n",
              "      <td>SD KRISTEN 5 BPK PENABUR</td>\n",
              "      <td>20219587</td>\n",
              "      <td>SD</td>\n",
              "      <td>Swasta</td>\n",
              "      <td>370</td>\n",
              "      <td>17</td>\n",
              "      <td>23</td>\n",
              "      <td>3</td>\n",
              "      <td>18</td>\n",
              "      <td>2</td>\n",
              "      <td>1</td>\n",
              "    </tr>\n",
              "    <tr>\n",
              "      <th>21</th>\n",
              "      <td>22</td>\n",
              "      <td>SD MUHAMMADIYAH 1</td>\n",
              "      <td>20219854</td>\n",
              "      <td>SD</td>\n",
              "      <td>Swasta</td>\n",
              "      <td>46</td>\n",
              "      <td>6</td>\n",
              "      <td>12</td>\n",
              "      <td>0</td>\n",
              "      <td>6</td>\n",
              "      <td>0</td>\n",
              "      <td>1</td>\n",
              "    </tr>\n",
              "    <tr>\n",
              "      <th>22</th>\n",
              "      <td>23</td>\n",
              "      <td>SD YAYASAN BERIBU</td>\n",
              "      <td>20247256</td>\n",
              "      <td>SD</td>\n",
              "      <td>Swasta</td>\n",
              "      <td>207</td>\n",
              "      <td>11</td>\n",
              "      <td>13</td>\n",
              "      <td>0</td>\n",
              "      <td>12</td>\n",
              "      <td>1</td>\n",
              "      <td>1</td>\n",
              "    </tr>\n",
              "  </tbody>\n",
              "</table>\n",
              "</div>\n",
              "      <button class=\"colab-df-convert\" onclick=\"convertToInteractive('df-f0bb1f5e-56ea-4ee5-85b5-1588e5702552')\"\n",
              "              title=\"Convert this dataframe to an interactive table.\"\n",
              "              style=\"display:none;\">\n",
              "        \n",
              "  <svg xmlns=\"http://www.w3.org/2000/svg\" height=\"24px\"viewBox=\"0 0 24 24\"\n",
              "       width=\"24px\">\n",
              "    <path d=\"M0 0h24v24H0V0z\" fill=\"none\"/>\n",
              "    <path d=\"M18.56 5.44l.94 2.06.94-2.06 2.06-.94-2.06-.94-.94-2.06-.94 2.06-2.06.94zm-11 1L8.5 8.5l.94-2.06 2.06-.94-2.06-.94L8.5 2.5l-.94 2.06-2.06.94zm10 10l.94 2.06.94-2.06 2.06-.94-2.06-.94-.94-2.06-.94 2.06-2.06.94z\"/><path d=\"M17.41 7.96l-1.37-1.37c-.4-.4-.92-.59-1.43-.59-.52 0-1.04.2-1.43.59L10.3 9.45l-7.72 7.72c-.78.78-.78 2.05 0 2.83L4 21.41c.39.39.9.59 1.41.59.51 0 1.02-.2 1.41-.59l7.78-7.78 2.81-2.81c.8-.78.8-2.07 0-2.86zM5.41 20L4 18.59l7.72-7.72 1.47 1.35L5.41 20z\"/>\n",
              "  </svg>\n",
              "      </button>\n",
              "      \n",
              "  <style>\n",
              "    .colab-df-container {\n",
              "      display:flex;\n",
              "      flex-wrap:wrap;\n",
              "      gap: 12px;\n",
              "    }\n",
              "\n",
              "    .colab-df-convert {\n",
              "      background-color: #E8F0FE;\n",
              "      border: none;\n",
              "      border-radius: 50%;\n",
              "      cursor: pointer;\n",
              "      display: none;\n",
              "      fill: #1967D2;\n",
              "      height: 32px;\n",
              "      padding: 0 0 0 0;\n",
              "      width: 32px;\n",
              "    }\n",
              "\n",
              "    .colab-df-convert:hover {\n",
              "      background-color: #E2EBFA;\n",
              "      box-shadow: 0px 1px 2px rgba(60, 64, 67, 0.3), 0px 1px 3px 1px rgba(60, 64, 67, 0.15);\n",
              "      fill: #174EA6;\n",
              "    }\n",
              "\n",
              "    [theme=dark] .colab-df-convert {\n",
              "      background-color: #3B4455;\n",
              "      fill: #D2E3FC;\n",
              "    }\n",
              "\n",
              "    [theme=dark] .colab-df-convert:hover {\n",
              "      background-color: #434B5C;\n",
              "      box-shadow: 0px 1px 3px 1px rgba(0, 0, 0, 0.15);\n",
              "      filter: drop-shadow(0px 1px 2px rgba(0, 0, 0, 0.3));\n",
              "      fill: #FFFFFF;\n",
              "    }\n",
              "  </style>\n",
              "\n",
              "      <script>\n",
              "        const buttonEl =\n",
              "          document.querySelector('#df-f0bb1f5e-56ea-4ee5-85b5-1588e5702552 button.colab-df-convert');\n",
              "        buttonEl.style.display =\n",
              "          google.colab.kernel.accessAllowed ? 'block' : 'none';\n",
              "\n",
              "        async function convertToInteractive(key) {\n",
              "          const element = document.querySelector('#df-f0bb1f5e-56ea-4ee5-85b5-1588e5702552');\n",
              "          const dataTable =\n",
              "            await google.colab.kernel.invokeFunction('convertToInteractive',\n",
              "                                                     [key], {});\n",
              "          if (!dataTable) return;\n",
              "\n",
              "          const docLinkHtml = 'Like what you see? Visit the ' +\n",
              "            '<a target=\"_blank\" href=https://colab.research.google.com/notebooks/data_table.ipynb>data table notebook</a>'\n",
              "            + ' to learn more about interactive tables.';\n",
              "          element.innerHTML = '';\n",
              "          dataTable['output_type'] = 'display_data';\n",
              "          await google.colab.output.renderOutput(dataTable, element);\n",
              "          const docLink = document.createElement('div');\n",
              "          docLink.innerHTML = docLinkHtml;\n",
              "          element.appendChild(docLink);\n",
              "        }\n",
              "      </script>\n",
              "    </div>\n",
              "  </div>\n",
              "  "
            ]
          },
          "metadata": {},
          "execution_count": 6
        }
      ]
    },
    {
      "cell_type": "code",
      "source": [
        "import matplotlib.pyplot as plt\n",
        "df.plot(kind = 'scatter', x='Peserta Didik', y='Rombel')\n",
        "\n",
        "plt.title('indeks pendidikan')\n",
        "plt.xlabel('pendidikan')\n",
        "plt.ylabel('indeks')\n",
        "plt.xlim(0, 1400)\n",
        "plt.ylim(0, 40)\n",
        "plt.grid(True)\n",
        "plt.show()"
      ],
      "metadata": {
        "colab": {
          "base_uri": "https://localhost:8080/",
          "height": 295
        },
        "id": "CUhv6oBBn6IJ",
        "outputId": "636a7682-dfda-4d41-8a83-6eebe1a7c067"
      },
      "execution_count": null,
      "outputs": [
        {
          "output_type": "display_data",
          "data": {
            "text/plain": [
              "<Figure size 432x288 with 1 Axes>"
            ],
            "image/png": "[encoded data removed]"
          },
          "metadata": {
            "needs_background": "light"
          }
        }
      ]
    },
    {
      "cell_type": "code",
      "source": [
        "import numpy as np\n",
        "X = np.array(df['Peserta Didik'])\n",
        "y = np.array(df['Rombel'])\n",
        "\n",
        "print(f'X : {X}')\n",
        "print(f'y : {y}')"
      ],
      "metadata": {
        "id": "My_L_cI_rzQT",
        "colab": {
          "base_uri": "https://localhost:8080/"
        },
        "outputId": "6ed1ca9c-9a54-449c-8457-2122812decb8"
      },
      "execution_count": null,
      "outputs": [
        {
          "output_type": "stream",
          "name": "stdout",
          "text": [
            "X : [ 777  493  252  431  500  397 1332  251  130  312  836    0  619  133\n",
            "  102  327  115  301  175  111  370   46  207]\n",
            "y : [25 18  7 13 15 12 37  7  6 11 21  2 22  6  6 12  6 10  6  6 17  6 11]\n"
          ]
        }
      ]
    },
    {
      "cell_type": "code",
      "source": [
        "X = X.reshape(-1, 1)\n",
        "X.shape"
      ],
      "metadata": {
        "colab": {
          "base_uri": "https://localhost:8080/"
        },
        "id": "PLydpcFBdfCD",
        "outputId": "3ab18e1e-e950-4ea1-92d7-cb02012fa5fd"
      },
      "execution_count": null,
      "outputs": [
        {
          "output_type": "execute_result",
          "data": {
            "text/plain": [
              "(23, 1)"
            ]
          },
          "metadata": {},
          "execution_count": 12
        }
      ]
    },
    {
      "cell_type": "code",
      "source": [
        "from sklearn.linear_model import LinearRegression\n",
        "\n",
        "model = LinearRegression()\n",
        "model.fit(X, y)"
      ],
      "metadata": {
        "colab": {
          "base_uri": "https://localhost:8080/"
        },
        "id": "PmYd6wDKdhBk",
        "outputId": "dfb938b5-dbdb-4769-ea12-a0981ae1d329"
      },
      "execution_count": null,
      "outputs": [
        {
          "output_type": "execute_result",
          "data": {
            "text/plain": [
              "LinearRegression()"
            ]
          },
          "metadata": {},
          "execution_count": 13
        }
      ]
    },
    {
      "cell_type": "code",
      "source": [
        "X_vis = np. array([0, 10000]).reshape(-1, 1)\n",
        "y_vis = model.predict(X_vis)"
      ],
      "metadata": {
        "id": "4wS7lhTyds0U"
      },
      "execution_count": null,
      "outputs": []
    },
    {
      "cell_type": "code",
      "source": [
        "plt.scatter(X, y)\n",
        "plt.plot(X_vis, y_vis,'-r')  \n",
        "plt.xlabel('Peserta Didik')\n",
        "plt.ylabel('Rombel')\n",
        "plt.xlim(0, 1400)\n",
        "plt.ylim(0, 40)\n",
        "plt.grid(True)\n",
        "plt.show()"
      ],
      "metadata": {
        "colab": {
          "base_uri": "https://localhost:8080/",
          "height": 283
        },
        "id": "pMis7xpMdwqN",
        "outputId": "b4877d28-fb2b-4479-8a7a-3f6a0461f8c2"
      },
      "execution_count": null,
      "outputs": [
        {
          "output_type": "display_data",
          "data": {
            "text/plain": [
              "<Figure size 432x288 with 1 Axes>"
            ],
            "image/png": "[encoded data removed]"
          },
          "metadata": {
            "needs_background": "light"
          }
        }
      ]
    },
    {
      "cell_type": "code",
      "source": [
        "print(f'intercept : {model.intercept_}')\n",
        "print(f'slope : {model.coef_}')"
      ],
      "metadata": {
        "colab": {
          "base_uri": "https://localhost:8080/"
        },
        "id": "pm45hFXTk2jo",
        "outputId": "bfd2b297-8bfe-4a9d-9d97-fbcaff695225"
      },
      "execution_count": null,
      "outputs": [
        {
          "output_type": "stream",
          "name": "stdout",
          "text": [
            "intercept : 3.0574397619949174\n",
            "slope : [0.02576109]\n"
          ]
        }
      ]
    },
    {
      "cell_type": "code",
      "source": [
        "Rombel = np.array([202, 206, 700, 900, 1200]).reshape(-1, 1)\n",
        "Rombel"
      ],
      "metadata": {
        "colab": {
          "base_uri": "https://localhost:8080/"
        },
        "id": "WBzDU-Vbk8B_",
        "outputId": "7e070341-2ae6-4330-8a7c-4a4fe3a7c2ec"
      },
      "execution_count": null,
      "outputs": [
        {
          "output_type": "execute_result",
          "data": {
            "text/plain": [
              "array([[ 202],\n",
              "       [ 206],\n",
              "       [ 700],\n",
              "       [ 900],\n",
              "       [1200]])"
            ]
          },
          "metadata": {},
          "execution_count": 12
        }
      ]
    },
    {
      "cell_type": "code",
      "source": [
        "prediksi_indeks = model.predict(Rombel)\n",
        "prediksi_indeks"
      ],
      "metadata": {
        "colab": {
          "base_uri": "https://localhost:8080/"
        },
        "id": "yWrk5rpInHGd",
        "outputId": "ac7afd1f-f932-417c-c9df-5f69fe105921"
      },
      "execution_count": null,
      "outputs": [
        {
          "output_type": "execute_result",
          "data": {
            "text/plain": [
              "array([ 8.26118016,  8.36422453, 21.09020352, 26.24242174, 33.97074907])"
            ]
          },
          "metadata": {},
          "execution_count": 13
        }
      ]
    },
    {
      "cell_type": "code",
      "source": [
        "for Pendidik, index in zip(Rombel, prediksi_indeks):\n",
        "  print(f'jumlah pendidik : {Pendidik} prediksi indexs : {index}')"
      ],
      "metadata": {
        "colab": {
          "base_uri": "https://localhost:8080/"
        },
        "id": "TpS3BnLpnh8U",
        "outputId": "e1ab5277-78b3-4aad-8088-53657990869e"
      },
      "execution_count": null,
      "outputs": [
        {
          "output_type": "stream",
          "name": "stdout",
          "text": [
            "jumlah pendidik : [202] prediksi indexs : 8.261180161869763\n",
            "jumlah pendidik : [206] prediksi indexs : 8.364224526223722\n",
            "jumlah pendidik : [700] prediksi indexs : 21.090203523937458\n",
            "jumlah pendidik : [900] prediksi indexs : 26.242421741635322\n",
            "jumlah pendidik : [1200] prediksi indexs : 33.97074906818213\n"
          ]
        }
      ]
    },
    {
      "cell_type": "code",
      "source": [
        "print(\"Peserta Didik : \")\n",
        "df['Peserta Didik'].sum()"
      ],
      "metadata": {
        "colab": {
          "base_uri": "https://localhost:8080/"
        },
        "id": "vR6gA5t6o_3I",
        "outputId": "a8440e06-30b8-44d3-b67c-294d33fba410"
      },
      "execution_count": 16,
      "outputs": [
        {
          "output_type": "stream",
          "name": "stdout",
          "text": [
            "Peserta Didik : \n"
          ]
        },
        {
          "output_type": "execute_result",
          "data": {
            "text/plain": [
              "8217"
            ]
          },
          "metadata": {},
          "execution_count": 16
        }
      ]
    },
    {
      "cell_type": "code",
      "source": [
        "print(\"Rombel : \")\n",
        "df['Rombel'].sum()"
      ],
      "metadata": {
        "colab": {
          "base_uri": "https://localhost:8080/"
        },
        "id": "r5fY7Qhe3aai",
        "outputId": "b5f5ce56-96d7-4b85-fd79-de419c2b2810"
      },
      "execution_count": 19,
      "outputs": [
        {
          "output_type": "stream",
          "name": "stdout",
          "text": [
            "Rombel : \n"
          ]
        },
        {
          "output_type": "execute_result",
          "data": {
            "text/plain": [
              "282"
            ]
          },
          "metadata": {},
          "execution_count": 19
        }
      ]
    },
    {
      "cell_type": "code",
      "source": [
        "print()\n",
        "fig = plt.figure()\n",
        "ax = fig.add_axes([0,0,1,1])\n",
        "eskul = ['Peserta Didik','Rombel']\n",
        "pengikut = [8217, 282]\n",
        "c = ['red', 'blue']\n",
        "plt.title(\"jumlah pendidikan\")\n",
        "plt.bar(eskul, pengikut, color = c)\n",
        "plt.show()\n",
        "print()\n",
        "fig = plt.figure()\n",
        "ax = fig.add_axes([0,0,1,1])\n",
        "ax.axis('equal')\n",
        "jurusan = ['Peserta Didik','Rombel']\n",
        "siswa = [8217, 282]\n",
        "ax.pie(siswa,labels=jurusan,autopct= '%1.2f%%')\n",
        "plt.title(\"jumlah pendidikan\")\n",
        "plt.show()"
      ],
      "metadata": {
        "colab": {
          "base_uri": "https://localhost:8080/",
          "height": 705
        },
        "id": "LZR8YFGSZdzw",
        "outputId": "f6abcbce-7c27-491b-9440-9dff70179513"
      },
      "execution_count": 23,
      "outputs": [
        {
          "output_type": "stream",
          "name": "stdout",
          "text": [
            "\n"
          ]
        },
        {
          "output_type": "display_data",
          "data": {
            "text/plain": [
              "<Figure size 432x288 with 1 Axes>"
            ],
            "image/png": "[encoded data removed]"
          },
          "metadata": {
            "needs_background": "light"
          }
        },
        {
          "output_type": "stream",
          "name": "stdout",
          "text": [
            "\n"
          ]
        },
        {
          "output_type": "display_data",
          "data": {
            "text/plain": [
              "<Figure size 432x288 with 1 Axes>"
            ],
            "image/png": "[encoded data removed]"
          },
          "metadata": {}
        }
      ]
    }
  ]
}